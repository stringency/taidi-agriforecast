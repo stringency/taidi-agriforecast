{
 "cells": [
  {
   "cell_type": "code",
   "execution_count": 4,
   "id": "94455cb2",
   "metadata": {
    "ExecuteTime": {
     "end_time": "2023-04-11T08:38:04.173294Z",
     "start_time": "2023-04-11T08:38:04.152611Z"
    }
   },
   "outputs": [],
   "source": [
    "import tensorflow as tf\n",
    "# tf.compat.v1.disable_eager_execution() #可以用于从TensorFlow 1.x到2.x的复杂迁移项目的程序开头\n",
    "import numpy as np\n",
    "import matplotlib.pyplot as plt"
   ]
  },
  {
   "cell_type": "code",
   "execution_count": 5,
   "id": "6b95217e",
   "metadata": {
    "ExecuteTime": {
     "end_time": "2023-04-11T08:38:04.426658Z",
     "start_time": "2023-04-11T08:38:04.395764Z"
    }
   },
   "outputs": [
    {
     "name": "stdout",
     "output_type": "stream",
     "text": [
      "Tensor(\"MatMul_6:0\", shape=(1, 1), dtype=int32)\n"
     ]
    }
   ],
   "source": [
    "m1 = tf.constant([[3,3]])\n",
    "m2 = tf.constant([[2],[3]])\n",
    "#矩阵相乘\n",
    "product = tf.matmul(m1,m2)\n",
    "print(product)"
   ]
  },
  {
   "cell_type": "code",
   "execution_count": 6,
   "id": "7f5a6919",
   "metadata": {
    "ExecuteTime": {
     "end_time": "2023-04-11T08:38:04.869744Z",
     "start_time": "2023-04-11T08:38:04.819763Z"
    }
   },
   "outputs": [
    {
     "name": "stdout",
     "output_type": "stream",
     "text": [
      "[[15]]\n"
     ]
    }
   ],
   "source": [
    "#定义一个会话有默认的图\n",
    "# tf.compat.v1.disable_eager_execution() #可以用于从TensorFlow 1.x到2.x的复杂迁移项目的程序开头\n",
    "sess = tf.compat.v1.Session()\n",
    "result = sess.run(product)#3个op\n",
    "print(result)\n",
    "sess.close()"
   ]
  },
  {
   "cell_type": "code",
   "execution_count": 22,
   "id": "792334f1",
   "metadata": {
    "ExecuteTime": {
     "end_time": "2023-04-09T07:44:46.670389Z",
     "start_time": "2023-04-09T07:44:46.662420Z"
    }
   },
   "outputs": [
    {
     "name": "stdout",
     "output_type": "stream",
     "text": [
      "[[15]]\n"
     ]
    }
   ],
   "source": [
    "#定义一个会话有默认的图\n",
    "tf.compat.v1.disable_eager_execution() #可以用于从TensorFlow 1.x到2.x的复杂迁移项目的程序开头\n",
    "sess = tf.compat.v1.Session()\n",
    "with tf.compat.v1.Session() as sess:\n",
    "    result = sess.run(product)#3个op\n",
    "    print(result)"
   ]
  },
  {
   "cell_type": "code",
   "execution_count": 29,
   "id": "e13cf0c3",
   "metadata": {
    "ExecuteTime": {
     "end_time": "2023-04-09T08:09:00.673909Z",
     "start_time": "2023-04-09T08:09:00.643988Z"
    }
   },
   "outputs": [
    {
     "name": "stdout",
     "output_type": "stream",
     "text": [
      "[-2 -1]\n",
      "[-1  1]\n"
     ]
    }
   ],
   "source": [
    "x = tf.Variable([1,2])\n",
    "a = tf.constant([3,3])\n",
    "sub = tf.subtract(x,a)\n",
    "add = tf.add(x,sub)\n",
    "tf.compat.v1.disable_eager_execution() #可以用于从TensorFlow 1.x到2.x的复杂迁移项目的程序开头\n",
    "init = tf.compat.v1.global_variables_initializer()\n",
    "\n",
    "with tf.compat.v1.Session() as sess:\n",
    "    sess.run(init)\n",
    "    print(sess.run(sub))\n",
    "    print(sess.run(add))"
   ]
  },
  {
   "cell_type": "code",
   "execution_count": 49,
   "id": "4dafa80d",
   "metadata": {
    "ExecuteTime": {
     "end_time": "2023-04-09T08:14:13.858265Z",
     "start_time": "2023-04-09T08:14:13.819399Z"
    }
   },
   "outputs": [
    {
     "name": "stdout",
     "output_type": "stream",
     "text": [
      "0\n",
      "1\n",
      "2\n",
      "3\n",
      "4\n",
      "5\n"
     ]
    }
   ],
   "source": [
    "state = tf.Variable(0,name='conunter')#一个变量初始化未0\n",
    "new_value = tf.add(state,1)#自加1\n",
    "update = tf.compat.v1.assign(state,new_value)\n",
    "init = tf.compat.v1.global_variables_initializer()\n",
    "\n",
    "with tf.compat.v1.Session() as sess:\n",
    "    sess.run(init)\n",
    "    print(sess.run(state))\n",
    "    for _ in range(5):\n",
    "        sess.run(update)\n",
    "        print(sess.run(state))"
   ]
  },
  {
   "cell_type": "code",
   "execution_count": 52,
   "id": "a33262a1",
   "metadata": {
    "ExecuteTime": {
     "end_time": "2023-04-09T08:17:30.347812Z",
     "start_time": "2023-04-09T08:17:30.315892Z"
    }
   },
   "outputs": [
    {
     "name": "stdout",
     "output_type": "stream",
     "text": [
      "[21.0, 7.0]\n"
     ]
    }
   ],
   "source": [
    "#fetch\n",
    "input1 = tf.constant(3.0)\n",
    "input2 = tf.constant(2.0)\n",
    "input3 = tf.constant(5.0)\n",
    "\n",
    "add = tf.add(input2,input3)\n",
    "mul = tf.multiply(input1,add)\n",
    "tf.compat.v1.disable_eager_execution() #可以用于从TensorFlow 1.x到2.x的复杂迁移项目的程序开头\n",
    "\n",
    "with tf.compat.v1.Session() as sess:\n",
    "    result = sess.run([mul,add])\n",
    "    print(result)"
   ]
  },
  {
   "cell_type": "code",
   "execution_count": 57,
   "id": "da6360fc",
   "metadata": {
    "ExecuteTime": {
     "end_time": "2023-04-09T08:20:39.670560Z",
     "start_time": "2023-04-09T08:20:39.634220Z"
    }
   },
   "outputs": [
    {
     "name": "stdout",
     "output_type": "stream",
     "text": [
      "[14.]\n"
     ]
    }
   ],
   "source": [
    "#feed\n",
    "#创建占用符\n",
    "input1 = tf.compat.v1.placeholder(tf.float32)\n",
    "input2 = tf.compat.v1.placeholder(tf.float32)\n",
    "output = tf.multiply(input1,input2)\n",
    "\n",
    "with tf.compat.v1.Session() as sess:\n",
    "    print(sess.run(output,feed_dict={input1:[7.],input2:[2.]}))"
   ]
  },
  {
   "cell_type": "code",
   "execution_count": 66,
   "id": "2bce92df",
   "metadata": {
    "ExecuteTime": {
     "end_time": "2023-04-09T08:33:27.717408Z",
     "start_time": "2023-04-09T08:33:27.581892Z"
    }
   },
   "outputs": [
    {
     "name": "stdout",
     "output_type": "stream",
     "text": [
      "0 [0.054697216, 0.100474715]\n",
      "20 [0.10418303, 0.1977128]\n",
      "40 [0.10249382, 0.19863646]\n",
      "60 [0.10148676, 0.1991871]\n",
      "80 [0.10088637, 0.19951536]\n",
      "100 [0.10052842, 0.19971107]\n",
      "120 [0.10031502, 0.19982776]\n",
      "140 [0.100187816, 0.1998973]\n",
      "160 [0.10011196, 0.19993879]\n",
      "180 [0.10006676, 0.1999635]\n",
      "200 [0.100039795, 0.19997823]\n"
     ]
    }
   ],
   "source": [
    "#简单实验案例\n",
    "x_data = np.random.rand(100)\n",
    "y_data = x_data*0.1 + 0.2\n",
    "\n",
    "#构造线性模型\n",
    "b = tf.Variable(0.)\n",
    "k = tf.Variable(0.)\n",
    "y = k*x_data + b\n",
    "\n",
    "#二次代价函数的定义\n",
    "loss = tf.reduce_mean(tf.square(y_data-y))#插值的平方\n",
    "#定义一个梯度下降法来进行训练的优化器\n",
    "optimizer = tf.compat.v1.train.GradientDescentOptimizer(0.2)\n",
    "#最小优化代价函数\n",
    "train = optimizer.minimize(loss)\n",
    "\n",
    "init = tf.compat.v1.global_variables_initializer()\n",
    "\n",
    "with tf.compat.v1.Session() as sess:\n",
    "    sess.run(init)\n",
    "    for step in range(201):\n",
    "        sess.run(train)\n",
    "        if(step%20 == 0):\n",
    "            print(step,sess.run([k,b]))\n"
   ]
  },
  {
   "cell_type": "code",
   "execution_count": 3,
   "id": "cb4c950c",
   "metadata": {
    "ExecuteTime": {
     "end_time": "2023-04-11T07:15:55.340262Z",
     "start_time": "2023-04-11T07:15:54.371504Z"
    }
   },
   "outputs": [
    {
     "data": {
      "image/png": "[encoded data removed]",
      "text/plain": [
       "<Figure size 432x288 with 1 Axes>"
      ]
     },
     "metadata": {
      "needs_background": "light"
     },
     "output_type": "display_data"
    }
   ],
   "source": [
    "import tensorflow as tf\n",
    "tf.compat.v1.disable_eager_execution() #可以用于从TensorFlow 1.x到2.x的复杂迁移项目的程序开头\n",
    "import numpy as np\n",
    "import matplotlib.pyplot as plt\n",
    "import os\n",
    "os.environ[\"KMP_DUPLICATE_LIB_OK\"]=\"TRUE\"\n",
    "x_data = np.linspace(-0.5,0.5,200)[:,np.newaxis]\n",
    "noise = np.random.normal(0,0.02,x_data.shape)\n",
    "y_data = np.square(x_data) + noise\n",
    "\n",
    "x = tf.compat.v1.placeholder(tf.float32,[None,1])\n",
    "y = tf.compat.v1.placeholder(tf.float32,[None,1])\n",
    "\n",
    "#神经网络中间层\n",
    "Weights_L1 = tf.Variable(tf.compat.v1.random.normal([1,10]))\n",
    "biases_L1 = tf.Variable(tf.zeros([1,10]))\n",
    "Wx_plus_b_L1 = tf.matmul(x,Weights_L1) + biases_L1\n",
    "L1 = tf.nn.tanh(Wx_plus_b_L1)\n",
    "\n",
    "#神经网络输出层\n",
    "Weights_L2 = tf.Variable(tf.compat.v1.random_normal([10,1]))\n",
    "biases_L2 = tf.Variable(tf.zeros([1,1]))\n",
    "Wx_plus_b_L2 = tf.matmul(L1,Weights_L2) + biases_L2\n",
    "prediction = tf.nn.tanh(Wx_plus_b_L2)\n",
    "\n",
    "#二次代价函数\n",
    "loss = tf.reduce_mean(tf.square(y-prediction))\n",
    "#梯度下降法训练\n",
    "train_step = tf.compat.v1.train.GradientDescentOptimizer(0.1).minimize(loss)\n",
    "\n",
    "with tf.compat.v1.Session() as sess:\n",
    "    sess.run(tf.compat.v1.global_variables_initializer())\n",
    "    for _ in range(2000):\n",
    "        sess.run(train_step,feed_dict={x:x_data,y:y_data})\n",
    "    prediction_value = sess.run(prediction,feed_dict={x:x_data})\n",
    "    #画图\n",
    "    plt.figure()\n",
    "    plt.scatter(x_data,y_data)\n",
    "    plt.plot(x_data,prediction_value,'r-',lw=5)\n",
    "    plt.show()"
   ]
  },
  {
   "cell_type": "code",
   "execution_count": 9,
   "id": "a3d62c2f",
   "metadata": {
    "ExecuteTime": {
     "end_time": "2023-04-11T06:47:54.608442Z",
     "start_time": "2023-04-11T06:47:54.599939Z"
    }
   },
   "outputs": [
    {
     "data": {
      "text/plain": [
       "<tf.Tensor 'Placeholder:0' shape=(None, 1) dtype=float32>"
      ]
     },
     "execution_count": 9,
     "metadata": {},
     "output_type": "execute_result"
    }
   ],
   "source": [
    "x"
   ]
  },
  {
   "cell_type": "code",
   "execution_count": null,
   "id": "c1f99050",
   "metadata": {},
   "outputs": [],
   "source": []
  }
 ],
 "metadata": {
  "kernelspec": {
   "display_name": "Python 3 (ipykernel)",
   "language": "python",
   "name": "python3"
  },
  "language_info": {
   "codemirror_mode": {
    "name": "ipython",
    "version": 3
   },
   "file_extension": ".py",
   "mimetype": "text/x-python",
   "name": "python",
   "nbconvert_exporter": "python",
   "pygments_lexer": "ipython3",
   "version": "3.9.12"
  }
 },
 "nbformat": 4,
 "nbformat_minor": 5
}
