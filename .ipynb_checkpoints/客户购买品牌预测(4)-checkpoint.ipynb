{
 "cells": [
  {
   "cell_type": "markdown",
   "metadata": {},
   "source": [
    "# 客户购买品牌预测"
   ]
  },
  {
   "cell_type": "code",
   "execution_count": 116,
   "metadata": {},
   "outputs": [],
   "source": [
    "# 导入相关的库\n",
    "import pandas as pd\n",
    "import time\n",
    "import numpy as np\n",
    "import matplotlib.pyplot as plt"
   ]
  },
  {
   "cell_type": "markdown",
   "metadata": {},
   "source": [
    "## 任务2：数据预处理"
   ]
  },
  {
   "cell_type": "code",
   "execution_count": 117,
   "metadata": {},
   "outputs": [],
   "source": [
    "# 读取数据\n",
    "data = pd.read_csv('data/data.csv',encoding='gbk')"
   ]
  },
  {
   "cell_type": "code",
   "execution_count": 118,
   "metadata": {},
   "outputs": [
    {
     "data": {
      "text/html": [
       "<div>\n",
       "<style scoped>\n",
       "    .dataframe tbody tr th:only-of-type {\n",
       "        vertical-align: middle;\n",
       "    }\n",
       "\n",
       "    .dataframe tbody tr th {\n",
       "        vertical-align: top;\n",
       "    }\n",
       "\n",
       "    .dataframe thead th {\n",
       "        text-align: right;\n",
       "    }\n",
       "</style>\n",
       "<table border=\"1\" class=\"dataframe\">\n",
       "  <thead>\n",
       "    <tr style=\"text-align: right;\">\n",
       "      <th></th>\n",
       "      <th>user_id</th>\n",
       "      <th>brand_id</th>\n",
       "      <th>type</th>\n",
       "      <th>visit_datetime</th>\n",
       "    </tr>\n",
       "  </thead>\n",
       "  <tbody>\n",
       "    <tr>\n",
       "      <th>0</th>\n",
       "      <td>10944750</td>\n",
       "      <td>13451</td>\n",
       "      <td>0</td>\n",
       "      <td>6月4日</td>\n",
       "    </tr>\n",
       "    <tr>\n",
       "      <th>1</th>\n",
       "      <td>10944750</td>\n",
       "      <td>13451</td>\n",
       "      <td>2</td>\n",
       "      <td>6月4日</td>\n",
       "    </tr>\n",
       "    <tr>\n",
       "      <th>2</th>\n",
       "      <td>10944750</td>\n",
       "      <td>13451</td>\n",
       "      <td>2</td>\n",
       "      <td>6月4日</td>\n",
       "    </tr>\n",
       "    <tr>\n",
       "      <th>3</th>\n",
       "      <td>10944750</td>\n",
       "      <td>13451</td>\n",
       "      <td>0</td>\n",
       "      <td>6月4日</td>\n",
       "    </tr>\n",
       "    <tr>\n",
       "      <th>4</th>\n",
       "      <td>10944750</td>\n",
       "      <td>13451</td>\n",
       "      <td>0</td>\n",
       "      <td>6月4日</td>\n",
       "    </tr>\n",
       "    <tr>\n",
       "      <th>...</th>\n",
       "      <td>...</td>\n",
       "      <td>...</td>\n",
       "      <td>...</td>\n",
       "      <td>...</td>\n",
       "    </tr>\n",
       "    <tr>\n",
       "      <th>182875</th>\n",
       "      <td>847750</td>\n",
       "      <td>26631</td>\n",
       "      <td>0</td>\n",
       "      <td>7月30日</td>\n",
       "    </tr>\n",
       "    <tr>\n",
       "      <th>182876</th>\n",
       "      <td>847750</td>\n",
       "      <td>26631</td>\n",
       "      <td>0</td>\n",
       "      <td>7月30日</td>\n",
       "    </tr>\n",
       "    <tr>\n",
       "      <th>182877</th>\n",
       "      <td>847750</td>\n",
       "      <td>2845</td>\n",
       "      <td>0</td>\n",
       "      <td>8月12日</td>\n",
       "    </tr>\n",
       "    <tr>\n",
       "      <th>182878</th>\n",
       "      <td>847750</td>\n",
       "      <td>5317</td>\n",
       "      <td>0</td>\n",
       "      <td>8月8日</td>\n",
       "    </tr>\n",
       "    <tr>\n",
       "      <th>182879</th>\n",
       "      <td>847750</td>\n",
       "      <td>22353</td>\n",
       "      <td>0</td>\n",
       "      <td>8月8日</td>\n",
       "    </tr>\n",
       "  </tbody>\n",
       "</table>\n",
       "<p>182880 rows × 4 columns</p>\n",
       "</div>"
      ],
      "text/plain": [
       "         user_id  brand_id  type visit_datetime\n",
       "0       10944750     13451     0           6月4日\n",
       "1       10944750     13451     2           6月4日\n",
       "2       10944750     13451     2           6月4日\n",
       "3       10944750     13451     0           6月4日\n",
       "4       10944750     13451     0           6月4日\n",
       "...          ...       ...   ...            ...\n",
       "182875    847750     26631     0          7月30日\n",
       "182876    847750     26631     0          7月30日\n",
       "182877    847750      2845     0          8月12日\n",
       "182878    847750      5317     0           8月8日\n",
       "182879    847750     22353     0           8月8日\n",
       "\n",
       "[182880 rows x 4 columns]"
      ]
     },
     "execution_count": 118,
     "metadata": {},
     "output_type": "execute_result"
    }
   ],
   "source": [
    "data"
   ]
  },
  {
   "cell_type": "markdown",
   "metadata": {},
   "source": [
    "user_id:用户标记<br>\n",
    "visit_datetime：行为时间<br>\n",
    "type：用户对品牌的行为类型（点击：0 购买：1 收藏：2 购物车：3）<br>\n",
    "brand_id：品牌数字ID"
   ]
  },
  {
   "cell_type": "markdown",
   "metadata": {},
   "source": [
    "任务 2.1 数据集划分：用前 3 个月的数据预测第 4 个月的购买情况，相应的类别\n",
    "标签由第 4 个月实际的购买情况决定，有购买记录的标记为“1”，称为正类样\n",
    "本，无购买记录的标记为“0”，称为负类样本"
   ]
  },
  {
   "cell_type": "code",
   "execution_count": 119,
   "metadata": {},
   "outputs": [
    {
     "data": {
      "text/html": [
       "<div>\n",
       "<style scoped>\n",
       "    .dataframe tbody tr th:only-of-type {\n",
       "        vertical-align: middle;\n",
       "    }\n",
       "\n",
       "    .dataframe tbody tr th {\n",
       "        vertical-align: top;\n",
       "    }\n",
       "\n",
       "    .dataframe thead th {\n",
       "        text-align: right;\n",
       "    }\n",
       "</style>\n",
       "<table border=\"1\" class=\"dataframe\">\n",
       "  <thead>\n",
       "    <tr style=\"text-align: right;\">\n",
       "      <th></th>\n",
       "      <th>user_id</th>\n",
       "      <th>brand_id</th>\n",
       "      <th>type</th>\n",
       "      <th>visit_datetime</th>\n",
       "    </tr>\n",
       "  </thead>\n",
       "  <tbody>\n",
       "    <tr>\n",
       "      <th>0</th>\n",
       "      <td>10944750</td>\n",
       "      <td>13451</td>\n",
       "      <td>0</td>\n",
       "      <td>1654272000</td>\n",
       "    </tr>\n",
       "    <tr>\n",
       "      <th>1</th>\n",
       "      <td>10944750</td>\n",
       "      <td>13451</td>\n",
       "      <td>2</td>\n",
       "      <td>1654272000</td>\n",
       "    </tr>\n",
       "    <tr>\n",
       "      <th>2</th>\n",
       "      <td>10944750</td>\n",
       "      <td>13451</td>\n",
       "      <td>2</td>\n",
       "      <td>1654272000</td>\n",
       "    </tr>\n",
       "    <tr>\n",
       "      <th>3</th>\n",
       "      <td>10944750</td>\n",
       "      <td>13451</td>\n",
       "      <td>0</td>\n",
       "      <td>1654272000</td>\n",
       "    </tr>\n",
       "    <tr>\n",
       "      <th>4</th>\n",
       "      <td>10944750</td>\n",
       "      <td>13451</td>\n",
       "      <td>0</td>\n",
       "      <td>1654272000</td>\n",
       "    </tr>\n",
       "    <tr>\n",
       "      <th>...</th>\n",
       "      <td>...</td>\n",
       "      <td>...</td>\n",
       "      <td>...</td>\n",
       "      <td>...</td>\n",
       "    </tr>\n",
       "    <tr>\n",
       "      <th>182875</th>\n",
       "      <td>847750</td>\n",
       "      <td>26631</td>\n",
       "      <td>0</td>\n",
       "      <td>1659110400</td>\n",
       "    </tr>\n",
       "    <tr>\n",
       "      <th>182876</th>\n",
       "      <td>847750</td>\n",
       "      <td>26631</td>\n",
       "      <td>0</td>\n",
       "      <td>1659110400</td>\n",
       "    </tr>\n",
       "    <tr>\n",
       "      <th>182877</th>\n",
       "      <td>847750</td>\n",
       "      <td>2845</td>\n",
       "      <td>0</td>\n",
       "      <td>1660233600</td>\n",
       "    </tr>\n",
       "    <tr>\n",
       "      <th>182878</th>\n",
       "      <td>847750</td>\n",
       "      <td>5317</td>\n",
       "      <td>0</td>\n",
       "      <td>1659888000</td>\n",
       "    </tr>\n",
       "    <tr>\n",
       "      <th>182879</th>\n",
       "      <td>847750</td>\n",
       "      <td>22353</td>\n",
       "      <td>0</td>\n",
       "      <td>1659888000</td>\n",
       "    </tr>\n",
       "  </tbody>\n",
       "</table>\n",
       "<p>182880 rows × 4 columns</p>\n",
       "</div>"
      ],
      "text/plain": [
       "         user_id  brand_id  type  visit_datetime\n",
       "0       10944750     13451     0      1654272000\n",
       "1       10944750     13451     2      1654272000\n",
       "2       10944750     13451     2      1654272000\n",
       "3       10944750     13451     0      1654272000\n",
       "4       10944750     13451     0      1654272000\n",
       "...          ...       ...   ...             ...\n",
       "182875    847750     26631     0      1659110400\n",
       "182876    847750     26631     0      1659110400\n",
       "182877    847750      2845     0      1660233600\n",
       "182878    847750      5317     0      1659888000\n",
       "182879    847750     22353     0      1659888000\n",
       "\n",
       "[182880 rows x 4 columns]"
      ]
     },
     "execution_count": 119,
     "metadata": {},
     "output_type": "execute_result"
    }
   ],
   "source": [
    "# 将visit_datetime的日期转为时间戳的格式（由于原数据集没有给年份，此处为了方便计算设置为今年）\n",
    "data[\"visit_datetime\"] = data[\"visit_datetime\"].apply(lambda x:int(time.mktime(time.strptime('2022-'+x, \"%Y-%m月%d日\"))))\n",
    "data"
   ]
  },
  {
   "cell_type": "code",
   "execution_count": 120,
   "metadata": {},
   "outputs": [],
   "source": [
    "# 7月15日是划分前三个月和第四个月的时间点\n",
    "timeDivision = int(time.mktime(time.strptime('2022-7-15', \"%Y-%m-%d\")))"
   ]
  },
  {
   "cell_type": "code",
   "execution_count": 121,
   "metadata": {},
   "outputs": [],
   "source": [
    "# 划分出前三个月的数据\n",
    "data_firstThreeMonths = data.loc[data[\"visit_datetime\"]<timeDivision]\n",
    "# 划分出最后一个月的数据\n",
    "data_lastMonth = data.loc[data[\"visit_datetime\"]>=timeDivision]"
   ]
  },
  {
   "cell_type": "code",
   "execution_count": 122,
   "metadata": {},
   "outputs": [],
   "source": [
    "# 重新设置index\n",
    "data_firstThreeMonths = data_firstThreeMonths.reset_index(drop=True)\n",
    "data_lastMonth = data_lastMonth.reset_index(drop=True)"
   ]
  },
  {
   "cell_type": "code",
   "execution_count": 123,
   "metadata": {},
   "outputs": [
    {
     "data": {
      "text/html": [
       "<div>\n",
       "<style scoped>\n",
       "    .dataframe tbody tr th:only-of-type {\n",
       "        vertical-align: middle;\n",
       "    }\n",
       "\n",
       "    .dataframe tbody tr th {\n",
       "        vertical-align: top;\n",
       "    }\n",
       "\n",
       "    .dataframe thead th {\n",
       "        text-align: right;\n",
       "    }\n",
       "</style>\n",
       "<table border=\"1\" class=\"dataframe\">\n",
       "  <thead>\n",
       "    <tr style=\"text-align: right;\">\n",
       "      <th></th>\n",
       "      <th>user_id</th>\n",
       "      <th>brand_id</th>\n",
       "    </tr>\n",
       "  </thead>\n",
       "  <tbody>\n",
       "    <tr>\n",
       "      <th>0</th>\n",
       "      <td>10944750</td>\n",
       "      <td>28752</td>\n",
       "    </tr>\n",
       "    <tr>\n",
       "      <th>1</th>\n",
       "      <td>12028500</td>\n",
       "      <td>21392</td>\n",
       "    </tr>\n",
       "    <tr>\n",
       "      <th>2</th>\n",
       "      <td>12028500</td>\n",
       "      <td>16540</td>\n",
       "    </tr>\n",
       "    <tr>\n",
       "      <th>3</th>\n",
       "      <td>12028500</td>\n",
       "      <td>18496</td>\n",
       "    </tr>\n",
       "    <tr>\n",
       "      <th>4</th>\n",
       "      <td>12028500</td>\n",
       "      <td>11196</td>\n",
       "    </tr>\n",
       "    <tr>\n",
       "      <th>...</th>\n",
       "      <td>...</td>\n",
       "      <td>...</td>\n",
       "    </tr>\n",
       "    <tr>\n",
       "      <th>1403</th>\n",
       "      <td>6694750</td>\n",
       "      <td>23007</td>\n",
       "    </tr>\n",
       "    <tr>\n",
       "      <th>1404</th>\n",
       "      <td>847750</td>\n",
       "      <td>21684</td>\n",
       "    </tr>\n",
       "    <tr>\n",
       "      <th>1405</th>\n",
       "      <td>847750</td>\n",
       "      <td>18024</td>\n",
       "    </tr>\n",
       "    <tr>\n",
       "      <th>1406</th>\n",
       "      <td>847750</td>\n",
       "      <td>12728</td>\n",
       "    </tr>\n",
       "    <tr>\n",
       "      <th>1407</th>\n",
       "      <td>847750</td>\n",
       "      <td>28169</td>\n",
       "    </tr>\n",
       "  </tbody>\n",
       "</table>\n",
       "<p>1408 rows × 2 columns</p>\n",
       "</div>"
      ],
      "text/plain": [
       "       user_id  brand_id\n",
       "0     10944750     28752\n",
       "1     12028500     21392\n",
       "2     12028500     16540\n",
       "3     12028500     18496\n",
       "4     12028500     11196\n",
       "...        ...       ...\n",
       "1403   6694750     23007\n",
       "1404    847750     21684\n",
       "1405    847750     18024\n",
       "1406    847750     12728\n",
       "1407    847750     28169\n",
       "\n",
       "[1408 rows x 2 columns]"
      ]
     },
     "execution_count": 123,
     "metadata": {},
     "output_type": "execute_result"
    }
   ],
   "source": [
    "pd.set_option('mode.chained_assignment', None)\n",
    "# 去掉第四个月没有购买的记录\n",
    "data_lastMonthBuy = data_lastMonth.loc[data_lastMonth['type'] == 1]\n",
    "# 得到在第四个月中有购买操作的用户和商品的组合\n",
    "purchasePortfolio = data_lastMonthBuy[['user_id','brand_id']]\n",
    "# 去除重复行\n",
    "purchasePortfolio.drop_duplicates(inplace=True)\n",
    "# 重新设置index\n",
    "purchasePortfolio = purchasePortfolio.reset_index(drop=True)\n",
    "purchasePortfolio"
   ]
  },
  {
   "cell_type": "code",
   "execution_count": 124,
   "metadata": {},
   "outputs": [
    {
     "data": {
      "text/html": [
       "<div>\n",
       "<style scoped>\n",
       "    .dataframe tbody tr th:only-of-type {\n",
       "        vertical-align: middle;\n",
       "    }\n",
       "\n",
       "    .dataframe tbody tr th {\n",
       "        vertical-align: top;\n",
       "    }\n",
       "\n",
       "    .dataframe thead th {\n",
       "        text-align: right;\n",
       "    }\n",
       "</style>\n",
       "<table border=\"1\" class=\"dataframe\">\n",
       "  <thead>\n",
       "    <tr style=\"text-align: right;\">\n",
       "      <th></th>\n",
       "      <th>user_id</th>\n",
       "      <th>brand_id</th>\n",
       "      <th>type</th>\n",
       "      <th>visit_datetime</th>\n",
       "      <th>is_buy</th>\n",
       "    </tr>\n",
       "  </thead>\n",
       "  <tbody>\n",
       "    <tr>\n",
       "      <th>0</th>\n",
       "      <td>10944750</td>\n",
       "      <td>13451</td>\n",
       "      <td>0</td>\n",
       "      <td>1654272000</td>\n",
       "      <td>1</td>\n",
       "    </tr>\n",
       "    <tr>\n",
       "      <th>1</th>\n",
       "      <td>10944750</td>\n",
       "      <td>13451</td>\n",
       "      <td>2</td>\n",
       "      <td>1654272000</td>\n",
       "      <td>1</td>\n",
       "    </tr>\n",
       "    <tr>\n",
       "      <th>2</th>\n",
       "      <td>10944750</td>\n",
       "      <td>13451</td>\n",
       "      <td>2</td>\n",
       "      <td>1654272000</td>\n",
       "      <td>1</td>\n",
       "    </tr>\n",
       "    <tr>\n",
       "      <th>3</th>\n",
       "      <td>10944750</td>\n",
       "      <td>13451</td>\n",
       "      <td>0</td>\n",
       "      <td>1654272000</td>\n",
       "      <td>1</td>\n",
       "    </tr>\n",
       "    <tr>\n",
       "      <th>4</th>\n",
       "      <td>10944750</td>\n",
       "      <td>13451</td>\n",
       "      <td>0</td>\n",
       "      <td>1654272000</td>\n",
       "      <td>1</td>\n",
       "    </tr>\n",
       "    <tr>\n",
       "      <th>...</th>\n",
       "      <td>...</td>\n",
       "      <td>...</td>\n",
       "      <td>...</td>\n",
       "      <td>...</td>\n",
       "      <td>...</td>\n",
       "    </tr>\n",
       "    <tr>\n",
       "      <th>130329</th>\n",
       "      <td>847750</td>\n",
       "      <td>9848</td>\n",
       "      <td>0</td>\n",
       "      <td>1655827200</td>\n",
       "      <td>1</td>\n",
       "    </tr>\n",
       "    <tr>\n",
       "      <th>130330</th>\n",
       "      <td>847750</td>\n",
       "      <td>9848</td>\n",
       "      <td>0</td>\n",
       "      <td>1655654400</td>\n",
       "      <td>1</td>\n",
       "    </tr>\n",
       "    <tr>\n",
       "      <th>130331</th>\n",
       "      <td>847750</td>\n",
       "      <td>9848</td>\n",
       "      <td>0</td>\n",
       "      <td>1655654400</td>\n",
       "      <td>1</td>\n",
       "    </tr>\n",
       "    <tr>\n",
       "      <th>130332</th>\n",
       "      <td>847750</td>\n",
       "      <td>9848</td>\n",
       "      <td>0</td>\n",
       "      <td>1655654400</td>\n",
       "      <td>1</td>\n",
       "    </tr>\n",
       "    <tr>\n",
       "      <th>130333</th>\n",
       "      <td>847750</td>\n",
       "      <td>27123</td>\n",
       "      <td>0</td>\n",
       "      <td>1655568000</td>\n",
       "      <td>1</td>\n",
       "    </tr>\n",
       "  </tbody>\n",
       "</table>\n",
       "<p>130334 rows × 5 columns</p>\n",
       "</div>"
      ],
      "text/plain": [
       "         user_id  brand_id  type  visit_datetime  is_buy\n",
       "0       10944750     13451     0      1654272000       1\n",
       "1       10944750     13451     2      1654272000       1\n",
       "2       10944750     13451     2      1654272000       1\n",
       "3       10944750     13451     0      1654272000       1\n",
       "4       10944750     13451     0      1654272000       1\n",
       "...          ...       ...   ...             ...     ...\n",
       "130329    847750      9848     0      1655827200       1\n",
       "130330    847750      9848     0      1655654400       1\n",
       "130331    847750      9848     0      1655654400       1\n",
       "130332    847750      9848     0      1655654400       1\n",
       "130333    847750     27123     0      1655568000       1\n",
       "\n",
       "[130334 rows x 5 columns]"
      ]
     },
     "execution_count": 124,
     "metadata": {},
     "output_type": "execute_result"
    }
   ],
   "source": [
    "# 根据第四个月的购买记录，跟前三个月的正样本赋值\n",
    "data_firstThreeMonths['is_buy'] = 0\n",
    "data_firstThreeMonths_array = np.array(data_firstThreeMonths[['user_id','brand_id']])\n",
    "for i in range(len(data_firstThreeMonths_array)):\n",
    "    if(data_firstThreeMonths_array[i] in np.array(purchasePortfolio)):\n",
    "        data_firstThreeMonths.loc[i,\"is_buy\"] = 1\n",
    "data_firstThreeMonths  "
   ]
  },
  {
   "cell_type": "code",
   "execution_count": 125,
   "metadata": {},
   "outputs": [
    {
     "data": {
      "text/plain": [
       "1    112103\n",
       "0     18231\n",
       "Name: is_buy, dtype: int64"
      ]
     },
     "execution_count": 125,
     "metadata": {},
     "output_type": "execute_result"
    }
   ],
   "source": [
    "data_firstThreeMonths['is_buy'].value_counts()"
   ]
  },
  {
   "cell_type": "markdown",
   "metadata": {},
   "source": [
    "任务 2.2 数据填充：当用户和品牌发生了“收藏”、“购买”、“加入购物车”的操作，每发生一个非“点击”记录，补充一个同用户同品牌同时间的“点击”记录"
   ]
  },
  {
   "cell_type": "code",
   "execution_count": 126,
   "metadata": {},
   "outputs": [
    {
     "data": {
      "text/plain": [
       "0    124540\n",
       "1      5794\n",
       "Name: type, dtype: int64"
      ]
     },
     "execution_count": 126,
     "metadata": {},
     "output_type": "execute_result"
    }
   ],
   "source": [
    "# 得到当前记录的数量\n",
    "dataLen = data_firstThreeMonths.index.stop\n",
    "# 获得 用户和品牌发生了“收藏”、“购买”、“加入购物车”操作 的索引\n",
    "dataIndex_buy = data_firstThreeMonths['type'] == 1 \n",
    "dataIndex_save = data_firstThreeMonths['type'] == 2\n",
    "dataIndex_cart = data_firstThreeMonths['type'] == 3\n",
    "# 用户非点击操作的数据统计\n",
    "dataIndex_buy = dataIndex_buy.apply(lambda x:1 if x==True else 0)\n",
    "dataIndex_save = dataIndex_save.apply(lambda x:1 if x==True else 0)\n",
    "dataIndex_cart = dataIndex_cart.apply(lambda x:1 if x==True else 0)\n",
    "dataIndex = dataIndex_buy + dataIndex_save + dataIndex_cart\n",
    "dataIndex.value_counts()"
   ]
  },
  {
   "cell_type": "code",
   "execution_count": 127,
   "metadata": {},
   "outputs": [
    {
     "data": {
      "text/html": [
       "<div>\n",
       "<style scoped>\n",
       "    .dataframe tbody tr th:only-of-type {\n",
       "        vertical-align: middle;\n",
       "    }\n",
       "\n",
       "    .dataframe tbody tr th {\n",
       "        vertical-align: top;\n",
       "    }\n",
       "\n",
       "    .dataframe thead th {\n",
       "        text-align: right;\n",
       "    }\n",
       "</style>\n",
       "<table border=\"1\" class=\"dataframe\">\n",
       "  <thead>\n",
       "    <tr style=\"text-align: right;\">\n",
       "      <th></th>\n",
       "      <th>user_id</th>\n",
       "      <th>brand_id</th>\n",
       "      <th>type</th>\n",
       "      <th>visit_datetime</th>\n",
       "      <th>is_buy</th>\n",
       "    </tr>\n",
       "  </thead>\n",
       "  <tbody>\n",
       "    <tr>\n",
       "      <th>0</th>\n",
       "      <td>10944750</td>\n",
       "      <td>13451</td>\n",
       "      <td>0</td>\n",
       "      <td>1654272000</td>\n",
       "      <td>1</td>\n",
       "    </tr>\n",
       "    <tr>\n",
       "      <th>1</th>\n",
       "      <td>10944750</td>\n",
       "      <td>13451</td>\n",
       "      <td>2</td>\n",
       "      <td>1654272000</td>\n",
       "      <td>1</td>\n",
       "    </tr>\n",
       "    <tr>\n",
       "      <th>2</th>\n",
       "      <td>10944750</td>\n",
       "      <td>13451</td>\n",
       "      <td>2</td>\n",
       "      <td>1654272000</td>\n",
       "      <td>1</td>\n",
       "    </tr>\n",
       "    <tr>\n",
       "      <th>3</th>\n",
       "      <td>10944750</td>\n",
       "      <td>13451</td>\n",
       "      <td>0</td>\n",
       "      <td>1654272000</td>\n",
       "      <td>1</td>\n",
       "    </tr>\n",
       "    <tr>\n",
       "      <th>4</th>\n",
       "      <td>10944750</td>\n",
       "      <td>13451</td>\n",
       "      <td>0</td>\n",
       "      <td>1654272000</td>\n",
       "      <td>1</td>\n",
       "    </tr>\n",
       "    <tr>\n",
       "      <th>...</th>\n",
       "      <td>...</td>\n",
       "      <td>...</td>\n",
       "      <td>...</td>\n",
       "      <td>...</td>\n",
       "      <td>...</td>\n",
       "    </tr>\n",
       "    <tr>\n",
       "      <th>130329</th>\n",
       "      <td>847750</td>\n",
       "      <td>9848</td>\n",
       "      <td>0</td>\n",
       "      <td>1655827200</td>\n",
       "      <td>1</td>\n",
       "    </tr>\n",
       "    <tr>\n",
       "      <th>130330</th>\n",
       "      <td>847750</td>\n",
       "      <td>9848</td>\n",
       "      <td>0</td>\n",
       "      <td>1655654400</td>\n",
       "      <td>1</td>\n",
       "    </tr>\n",
       "    <tr>\n",
       "      <th>130331</th>\n",
       "      <td>847750</td>\n",
       "      <td>9848</td>\n",
       "      <td>0</td>\n",
       "      <td>1655654400</td>\n",
       "      <td>1</td>\n",
       "    </tr>\n",
       "    <tr>\n",
       "      <th>130332</th>\n",
       "      <td>847750</td>\n",
       "      <td>9848</td>\n",
       "      <td>0</td>\n",
       "      <td>1655654400</td>\n",
       "      <td>1</td>\n",
       "    </tr>\n",
       "    <tr>\n",
       "      <th>130333</th>\n",
       "      <td>847750</td>\n",
       "      <td>27123</td>\n",
       "      <td>0</td>\n",
       "      <td>1655568000</td>\n",
       "      <td>1</td>\n",
       "    </tr>\n",
       "  </tbody>\n",
       "</table>\n",
       "<p>130334 rows × 5 columns</p>\n",
       "</div>"
      ],
      "text/plain": [
       "         user_id  brand_id  type  visit_datetime  is_buy\n",
       "0       10944750     13451     0      1654272000       1\n",
       "1       10944750     13451     2      1654272000       1\n",
       "2       10944750     13451     2      1654272000       1\n",
       "3       10944750     13451     0      1654272000       1\n",
       "4       10944750     13451     0      1654272000       1\n",
       "...          ...       ...   ...             ...     ...\n",
       "130329    847750      9848     0      1655827200       1\n",
       "130330    847750      9848     0      1655654400       1\n",
       "130331    847750      9848     0      1655654400       1\n",
       "130332    847750      9848     0      1655654400       1\n",
       "130333    847750     27123     0      1655568000       1\n",
       "\n",
       "[130334 rows x 5 columns]"
      ]
     },
     "execution_count": 127,
     "metadata": {},
     "output_type": "execute_result"
    }
   ],
   "source": [
    "data_firstThreeMonths"
   ]
  },
  {
   "cell_type": "code",
   "execution_count": 128,
   "metadata": {},
   "outputs": [],
   "source": [
    "# 补充一个同用户同品牌同时间的“点击”记录\n",
    "for i in range(len(dataIndex)):\n",
    "    if(dataIndex[i]):\n",
    "        user_id,brand_id,visit_datetime,is_buy = data_firstThreeMonths.loc[i][[\"user_id\",\"brand_id\",\"visit_datetime\",\"is_buy\"]]\n",
    "        # 新建一条记录\n",
    "        data_firstThreeMonths.loc[dataLen] = [user_id,brand_id,\"0\",visit_datetime,is_buy]\n",
    "        dataLen+=1"
   ]
  },
  {
   "cell_type": "code",
   "execution_count": 129,
   "metadata": {},
   "outputs": [
    {
     "data": {
      "text/html": [
       "<div>\n",
       "<style scoped>\n",
       "    .dataframe tbody tr th:only-of-type {\n",
       "        vertical-align: middle;\n",
       "    }\n",
       "\n",
       "    .dataframe tbody tr th {\n",
       "        vertical-align: top;\n",
       "    }\n",
       "\n",
       "    .dataframe thead th {\n",
       "        text-align: right;\n",
       "    }\n",
       "</style>\n",
       "<table border=\"1\" class=\"dataframe\">\n",
       "  <thead>\n",
       "    <tr style=\"text-align: right;\">\n",
       "      <th></th>\n",
       "      <th>user_id</th>\n",
       "      <th>brand_id</th>\n",
       "      <th>type</th>\n",
       "      <th>visit_datetime</th>\n",
       "      <th>is_buy</th>\n",
       "    </tr>\n",
       "  </thead>\n",
       "  <tbody>\n",
       "    <tr>\n",
       "      <th>0</th>\n",
       "      <td>10944750</td>\n",
       "      <td>13451</td>\n",
       "      <td>0</td>\n",
       "      <td>1654272000</td>\n",
       "      <td>1</td>\n",
       "    </tr>\n",
       "    <tr>\n",
       "      <th>1</th>\n",
       "      <td>10944750</td>\n",
       "      <td>13451</td>\n",
       "      <td>2</td>\n",
       "      <td>1654272000</td>\n",
       "      <td>1</td>\n",
       "    </tr>\n",
       "    <tr>\n",
       "      <th>2</th>\n",
       "      <td>10944750</td>\n",
       "      <td>13451</td>\n",
       "      <td>2</td>\n",
       "      <td>1654272000</td>\n",
       "      <td>1</td>\n",
       "    </tr>\n",
       "    <tr>\n",
       "      <th>3</th>\n",
       "      <td>10944750</td>\n",
       "      <td>13451</td>\n",
       "      <td>0</td>\n",
       "      <td>1654272000</td>\n",
       "      <td>1</td>\n",
       "    </tr>\n",
       "    <tr>\n",
       "      <th>4</th>\n",
       "      <td>10944750</td>\n",
       "      <td>13451</td>\n",
       "      <td>0</td>\n",
       "      <td>1654272000</td>\n",
       "      <td>1</td>\n",
       "    </tr>\n",
       "    <tr>\n",
       "      <th>...</th>\n",
       "      <td>...</td>\n",
       "      <td>...</td>\n",
       "      <td>...</td>\n",
       "      <td>...</td>\n",
       "      <td>...</td>\n",
       "    </tr>\n",
       "    <tr>\n",
       "      <th>136123</th>\n",
       "      <td>6694750</td>\n",
       "      <td>12977</td>\n",
       "      <td>0</td>\n",
       "      <td>1654185600</td>\n",
       "      <td>1</td>\n",
       "    </tr>\n",
       "    <tr>\n",
       "      <th>136124</th>\n",
       "      <td>6694750</td>\n",
       "      <td>14020</td>\n",
       "      <td>0</td>\n",
       "      <td>1655308800</td>\n",
       "      <td>1</td>\n",
       "    </tr>\n",
       "    <tr>\n",
       "      <th>136125</th>\n",
       "      <td>6694750</td>\n",
       "      <td>14020</td>\n",
       "      <td>0</td>\n",
       "      <td>1655136000</td>\n",
       "      <td>1</td>\n",
       "    </tr>\n",
       "    <tr>\n",
       "      <th>136126</th>\n",
       "      <td>6694750</td>\n",
       "      <td>14020</td>\n",
       "      <td>0</td>\n",
       "      <td>1655222400</td>\n",
       "      <td>1</td>\n",
       "    </tr>\n",
       "    <tr>\n",
       "      <th>136127</th>\n",
       "      <td>6694750</td>\n",
       "      <td>12352</td>\n",
       "      <td>0</td>\n",
       "      <td>1656864000</td>\n",
       "      <td>1</td>\n",
       "    </tr>\n",
       "  </tbody>\n",
       "</table>\n",
       "<p>136128 rows × 5 columns</p>\n",
       "</div>"
      ],
      "text/plain": [
       "         user_id  brand_id type  visit_datetime  is_buy\n",
       "0       10944750     13451    0      1654272000       1\n",
       "1       10944750     13451    2      1654272000       1\n",
       "2       10944750     13451    2      1654272000       1\n",
       "3       10944750     13451    0      1654272000       1\n",
       "4       10944750     13451    0      1654272000       1\n",
       "...          ...       ...  ...             ...     ...\n",
       "136123   6694750     12977    0      1654185600       1\n",
       "136124   6694750     14020    0      1655308800       1\n",
       "136125   6694750     14020    0      1655136000       1\n",
       "136126   6694750     14020    0      1655222400       1\n",
       "136127   6694750     12352    0      1656864000       1\n",
       "\n",
       "[136128 rows x 5 columns]"
      ]
     },
     "execution_count": 129,
     "metadata": {},
     "output_type": "execute_result"
    }
   ],
   "source": [
    "data_firstThreeMonths"
   ]
  },
  {
   "cell_type": "markdown",
   "metadata": {},
   "source": [
    "## 任务3 数据探索性分析"
   ]
  },
  {
   "cell_type": "markdown",
   "metadata": {},
   "source": [
    "任务 3.1 购买周期分布可视化"
   ]
  },
  {
   "cell_type": "code",
   "execution_count": 130,
   "metadata": {},
   "outputs": [
    {
     "data": {
      "text/plain": [
       "91"
      ]
     },
     "execution_count": 130,
     "metadata": {},
     "output_type": "execute_result"
    }
   ],
   "source": [
    "#形成键为时间，值为购买量的字典\n",
    "time={}\n",
    "j=0\n",
    "for i in data_firstThreeMonths.loc[:]['visit_datetime']:\n",
    "    time[i]=0\n",
    "for i in data_firstThreeMonths.loc[:]['is_buy']:\n",
    "    if i==1:\n",
    "        time[data_firstThreeMonths.loc[j]['visit_datetime']]=time[data_firstThreeMonths.loc[j]['visit_datetime']]+1\n",
    "    j=j+1\n",
    "len(time)"
   ]
  },
  {
   "cell_type": "code",
   "execution_count": 131,
   "metadata": {},
   "outputs": [],
   "source": [
    "#对该字典的键值按从小到大的顺序存入列表\n",
    "time_sorted=sorted(time.items(),key=lambda x:x[0],reverse=False)"
   ]
  },
  {
   "cell_type": "code",
   "execution_count": 132,
   "metadata": {},
   "outputs": [
    {
     "data": {
      "text/plain": [
       "91"
      ]
     },
     "execution_count": 132,
     "metadata": {},
     "output_type": "execute_result"
    }
   ],
   "source": [
    "#把折线图的x和y轴坐标存入列表\n",
    "x=[]\n",
    "y=[]\n",
    "for i in time_sorted:\n",
    "    x.append(i[0])\n",
    "    y.append(i[1])\n",
    "for i in range(0,len(x)):\n",
    "    x[i]=(x[i]-1649952000)/86400\n",
    "len(y)"
   ]
  },
  {
   "cell_type": "code",
   "execution_count": 133,
   "metadata": {},
   "outputs": [
    {
     "data": {
      "image/png": "[encoded data removed]",
      "text/plain": [
       "<Figure size 432x288 with 1 Axes>"
      ]
     },
     "metadata": {
      "needs_background": "light"
     },
     "output_type": "display_data"
    }
   ],
   "source": [
    "#画折线图1，天数与购买量\n",
    "plt.figure()\n",
    "plt.rcParams['font.sans-serif']='SimHei'\n",
    "plt.rcParams['axes.unicode_minus']=False\n",
    "plt.xlabel('时间(单位为从4月15日开始的天数)')\n",
    "plt.ylabel('购买量')\n",
    "plt.plot(x,y)\n",
    "plt.show()"
   ]
  },
  {
   "cell_type": "code",
   "execution_count": 134,
   "metadata": {},
   "outputs": [
    {
     "data": {
      "image/png": "[encoded data removed]",
      "text/plain": [
       "<Figure size 432x288 with 1 Axes>"
      ]
     },
     "metadata": {
      "needs_background": "light"
     },
     "output_type": "display_data"
    },
    {
     "data": {
      "text/plain": [
       "[1060.6875, 1158.6451612903227, 1318.5666666666666, 1638.6]"
      ]
     },
     "execution_count": 134,
     "metadata": {},
     "output_type": "execute_result"
    }
   ],
   "source": [
    "#画折线图2，月份与购买量\n",
    "plt.figure()\n",
    "y_mouth=[]\n",
    "a=0\n",
    "for i in range(0,16):\n",
    "    a=a+y[i]\n",
    "y_mouth.append(a/16)\n",
    "a=0\n",
    "for i in range(16,47):\n",
    "    a=a+y[i]\n",
    "y_mouth.append(a/31)\n",
    "a=0\n",
    "for i in range(47,77):\n",
    "    a=a+y[i]\n",
    "y_mouth.append(a/30)\n",
    "a=0\n",
    "for i in range(77,91):\n",
    "    a=a+y[i]\n",
    "y_mouth.append(a/15)\n",
    "plt.rcParams['font.sans-serif']='SimHei'\n",
    "plt.rcParams['axes.unicode_minus']=False\n",
    "plt.xlabel('时间(月份)')\n",
    "plt.ylabel('购买量')\n",
    "plt.plot(['4月','5月','6月','7月'],y_mouth)\n",
    "#plt.xticks(range(0,91,7),xticks)\n",
    "plt.show()\n",
    "y_mouth"
   ]
  },
  {
   "cell_type": "markdown",
   "metadata": {},
   "source": [
    "任务 3.2 购买前点击量分布可视化"
   ]
  },
  {
   "cell_type": "code",
   "execution_count": 135,
   "metadata": {},
   "outputs": [
    {
     "data": {
      "text/plain": [
       "[107181, 4270, 595, 57]"
      ]
     },
     "execution_count": 135,
     "metadata": {},
     "output_type": "execute_result"
    }
   ],
   "source": [
    "#将购买的人中各种类的数量放入列表\n",
    "type_num=[0,0,0,0]\n",
    "j=0\n",
    "for i in data_firstThreeMonths.loc[:]['is_buy']:\n",
    "    if i==1:\n",
    "        if data_firstThreeMonths.loc[j]['type']==0:\n",
    "            type_num[0]=type_num[0]+1\n",
    "        if data_firstThreeMonths.loc[j]['type']==1:\n",
    "            type_num[1]=type_num[1]+1\n",
    "        if data_firstThreeMonths.loc[j]['type']==2:\n",
    "            type_num[2]=type_num[2]+1\n",
    "        if data_firstThreeMonths.loc[j]['type']==3:\n",
    "            type_num[3]=type_num[3]+1\n",
    "    j=j+1\n",
    "type_num"
   ]
  },
  {
   "cell_type": "code",
   "execution_count": 136,
   "metadata": {},
   "outputs": [
    {
     "data": {
      "image/png": "[encoded data removed]",
      "text/plain": [
       "<Figure size 432x288 with 1 Axes>"
      ]
     },
     "metadata": {
      "needs_background": "light"
     },
     "output_type": "display_data"
    }
   ],
   "source": [
    "#画柱状图\n",
    "plt.bar([1,2,3,4],type_num,tick_label=['点击','购买','收藏','放入购物车'])\n",
    "x=[0.8,1.8,2.8,3.8]\n",
    "y=[112103, 4270, 595, 57]\n",
    "zip1=zip(x,y)\n",
    "for i in zip1:\n",
    "    plt.text(x=i[0],y=i[1],s=str(int(i[1])))\n",
    "plt.show()"
   ]
  },
  {
   "cell_type": "code",
   "execution_count": 137,
   "metadata": {},
   "outputs": [
    {
     "ename": "KeyboardInterrupt",
     "evalue": "",
     "output_type": "error",
     "traceback": [
      "\u001b[1;31m---------------------------------------------------------------------------\u001b[0m",
      "\u001b[1;31mKeyboardInterrupt\u001b[0m                         Traceback (most recent call last)",
      "\u001b[1;32md:\\Code\\tipdm\\第二次项目\\Python客户购买品牌预测\\客户购买品牌预测.ipynb Cell 30\u001b[0m in \u001b[0;36m<cell line: 6>\u001b[1;34m()\u001b[0m\n\u001b[0;32m      <a href='vscode-notebook-cell:/d%3A/Code/tipdm/%E7%AC%AC%E4%BA%8C%E6%AC%A1%E9%A1%B9%E7%9B%AE/Python%E5%AE%A2%E6%88%B7%E8%B4%AD%E4%B9%B0%E5%93%81%E7%89%8C%E9%A2%84%E6%B5%8B/%E5%AE%A2%E6%88%B7%E8%B4%AD%E4%B9%B0%E5%93%81%E7%89%8C%E9%A2%84%E6%B5%8B.ipynb#Y110sZmlsZQ%3D%3D?line=5'>6</a>\u001b[0m \u001b[39mfor\u001b[39;00m i \u001b[39min\u001b[39;00m data_firstThreeMonths\u001b[39m.\u001b[39mloc[:][\u001b[39m'\u001b[39m\u001b[39mis_buy\u001b[39m\u001b[39m'\u001b[39m]:\n\u001b[0;32m      <a href='vscode-notebook-cell:/d%3A/Code/tipdm/%E7%AC%AC%E4%BA%8C%E6%AC%A1%E9%A1%B9%E7%9B%AE/Python%E5%AE%A2%E6%88%B7%E8%B4%AD%E4%B9%B0%E5%93%81%E7%89%8C%E9%A2%84%E6%B5%8B/%E5%AE%A2%E6%88%B7%E8%B4%AD%E4%B9%B0%E5%93%81%E7%89%8C%E9%A2%84%E6%B5%8B.ipynb#Y110sZmlsZQ%3D%3D?line=6'>7</a>\u001b[0m     \u001b[39mif\u001b[39;00m i\u001b[39m==\u001b[39m\u001b[39m1\u001b[39m:\n\u001b[1;32m----> <a href='vscode-notebook-cell:/d%3A/Code/tipdm/%E7%AC%AC%E4%BA%8C%E6%AC%A1%E9%A1%B9%E7%9B%AE/Python%E5%AE%A2%E6%88%B7%E8%B4%AD%E4%B9%B0%E5%93%81%E7%89%8C%E9%A2%84%E6%B5%8B/%E5%AE%A2%E6%88%B7%E8%B4%AD%E4%B9%B0%E5%93%81%E7%89%8C%E9%A2%84%E6%B5%8B.ipynb#Y110sZmlsZQ%3D%3D?line=7'>8</a>\u001b[0m         \u001b[39mif\u001b[39;00m data_firstThreeMonths\u001b[39m.\u001b[39;49mloc[j][\u001b[39m'\u001b[39;49m\u001b[39muser_id\u001b[39;49m\u001b[39m'\u001b[39;49m] \u001b[39min\u001b[39;00m back_user_id:\n\u001b[0;32m      <a href='vscode-notebook-cell:/d%3A/Code/tipdm/%E7%AC%AC%E4%BA%8C%E6%AC%A1%E9%A1%B9%E7%9B%AE/Python%E5%AE%A2%E6%88%B7%E8%B4%AD%E4%B9%B0%E5%93%81%E7%89%8C%E9%A2%84%E6%B5%8B/%E5%AE%A2%E6%88%B7%E8%B4%AD%E4%B9%B0%E5%93%81%E7%89%8C%E9%A2%84%E6%B5%8B.ipynb#Y110sZmlsZQ%3D%3D?line=8'>9</a>\u001b[0m             back_user_id[data_firstThreeMonths\u001b[39m.\u001b[39mloc[j][\u001b[39m'\u001b[39m\u001b[39muser_id\u001b[39m\u001b[39m'\u001b[39m]]\u001b[39m=\u001b[39mback_user_id[data_firstThreeMonths\u001b[39m.\u001b[39mloc[j][\u001b[39m'\u001b[39m\u001b[39muser_id\u001b[39m\u001b[39m'\u001b[39m]]\u001b[39m+\u001b[39m\u001b[39m1\u001b[39m\n\u001b[0;32m     <a href='vscode-notebook-cell:/d%3A/Code/tipdm/%E7%AC%AC%E4%BA%8C%E6%AC%A1%E9%A1%B9%E7%9B%AE/Python%E5%AE%A2%E6%88%B7%E8%B4%AD%E4%B9%B0%E5%93%81%E7%89%8C%E9%A2%84%E6%B5%8B/%E5%AE%A2%E6%88%B7%E8%B4%AD%E4%B9%B0%E5%93%81%E7%89%8C%E9%A2%84%E6%B5%8B.ipynb#Y110sZmlsZQ%3D%3D?line=9'>10</a>\u001b[0m         \u001b[39melif\u001b[39;00m data_firstThreeMonths\u001b[39m.\u001b[39mloc[j][\u001b[39m'\u001b[39m\u001b[39muser_id\u001b[39m\u001b[39m'\u001b[39m] \u001b[39mnot\u001b[39;00m \u001b[39min\u001b[39;00m back_user_id:\n",
      "File \u001b[1;32me:\\MyAnaconda3\\A\\lib\\site-packages\\pandas\\core\\series.py:958\u001b[0m, in \u001b[0;36mSeries.__getitem__\u001b[1;34m(self, key)\u001b[0m\n\u001b[0;32m    955\u001b[0m     \u001b[39mreturn\u001b[39;00m \u001b[39mself\u001b[39m\u001b[39m.\u001b[39m_values[key]\n\u001b[0;32m    957\u001b[0m \u001b[39melif\u001b[39;00m key_is_scalar:\n\u001b[1;32m--> 958\u001b[0m     \u001b[39mreturn\u001b[39;00m \u001b[39mself\u001b[39;49m\u001b[39m.\u001b[39;49m_get_value(key)\n\u001b[0;32m    960\u001b[0m \u001b[39mif\u001b[39;00m is_hashable(key):\n\u001b[0;32m    961\u001b[0m     \u001b[39m# Otherwise index.get_value will raise InvalidIndexError\u001b[39;00m\n\u001b[0;32m    962\u001b[0m     \u001b[39mtry\u001b[39;00m:\n\u001b[0;32m    963\u001b[0m         \u001b[39m# For labels that don't resolve as scalars like tuples and frozensets\u001b[39;00m\n",
      "File \u001b[1;32me:\\MyAnaconda3\\A\\lib\\site-packages\\pandas\\core\\series.py:1070\u001b[0m, in \u001b[0;36mSeries._get_value\u001b[1;34m(self, label, takeable)\u001b[0m\n\u001b[0;32m   1068\u001b[0m \u001b[39m# Similar to Index.get_value, but we do not fall back to positional\u001b[39;00m\n\u001b[0;32m   1069\u001b[0m loc \u001b[39m=\u001b[39m \u001b[39mself\u001b[39m\u001b[39m.\u001b[39mindex\u001b[39m.\u001b[39mget_loc(label)\n\u001b[1;32m-> 1070\u001b[0m \u001b[39mreturn\u001b[39;00m \u001b[39mself\u001b[39;49m\u001b[39m.\u001b[39;49mindex\u001b[39m.\u001b[39;49m_get_values_for_loc(\u001b[39mself\u001b[39;49m, loc, label)\n",
      "\u001b[1;31mKeyboardInterrupt\u001b[0m: "
     ]
    }
   ],
   "source": [
    "#获取有回购的顾客数量，以及所有顾客数量\n",
    "all_num=0\n",
    "j=0\n",
    "buy_user_id=[]\n",
    "back_user_id={}\n",
    "for i in data_firstThreeMonths.loc[:]['is_buy']:\n",
    "    if i==1:\n",
    "        if data_firstThreeMonths.loc[j]['user_id'] in back_user_id:\n",
    "            back_user_id[data_firstThreeMonths.loc[j]['user_id']]=back_user_id[data_firstThreeMonths.loc[j]['user_id']]+1\n",
    "        elif data_firstThreeMonths.loc[j]['user_id'] not in back_user_id:\n",
    "            back_user_id[data_firstThreeMonths.loc[j]['user_id']]=1\n",
    "    j=j+1"
   ]
  },
  {
   "cell_type": "code",
   "execution_count": null,
   "metadata": {},
   "outputs": [
    {
     "data": {
      "image/png": "[encoded data removed]",
      "text/plain": [
       "<Figure size 432x288 with 1 Axes>"
      ]
     },
     "metadata": {
      "needs_background": "light"
     },
     "output_type": "display_data"
    }
   ],
   "source": [
    "buy_num=[0,0,0,0,0,0,0,0,0,0]\n",
    "for i in back_user_id.values():\n",
    "    if i<=100 and i>0:\n",
    "        buy_num[0]= buy_num[0]+1\n",
    "    elif i<=200 and i>100:\n",
    "        buy_num[1]= buy_num[1]+1\n",
    "    elif i<=300 and i>200:\n",
    "        buy_num[2]= buy_num[2]+1   \n",
    "    elif i<=400 and i>300:\n",
    "        buy_num[3]= buy_num[3]+1    \n",
    "    elif i<=500 and i>400:\n",
    "        buy_num[4]= buy_num[4]+1\n",
    "    elif i<=600 and i>500:\n",
    "        buy_num[5]= buy_num[5]+1\n",
    "    elif i<=700 and i>600:\n",
    "        buy_num[6]= buy_num[6]+1\n",
    "    elif i<=800 and i>700:\n",
    "        buy_num[7]= buy_num[7]+1\n",
    "    elif i<=900 and i>800:\n",
    "        buy_num[8]= buy_num[8]+1\n",
    "    elif i<=1000 and i>900:\n",
    "        buy_num[9]= buy_num[9]+1 \n",
    "#不同购买量的比例\n",
    "y=[487, 152, 89, 40, 22, 14, 9, 7, 4, 3]\n",
    "tick_label=['100','200','300','400','500','600','700','800','900','1000']\n",
    "plt.bar([1,2,3,4,5,6,7,8,9,10],y,tick_label=tick_label)\n",
    "x=[0.8,1.8,2.8,3.8,4.8,5.8,6.8,7.8,8.8,9.8]\n",
    "plt.xlabel('回购的顾客四个月内购买商品的数量')\n",
    "zip1=zip(x,y)\n",
    "for i in zip1:\n",
    "    plt.text(x=i[0],y=i[1],s=str(int(i[1])))\n",
    "plt.show()"
   ]
  },
  {
   "cell_type": "code",
   "execution_count": null,
   "metadata": {},
   "outputs": [
    {
     "data": {
      "text/plain": [
       "{}"
      ]
     },
     "execution_count": 109,
     "metadata": {},
     "output_type": "execute_result"
    }
   ],
   "source": [
    "id1={}\n",
    "id2={}\n",
    "j=0\n",
    "for i in data_lastMonth.loc[:]['type']:\n",
    "    if i==1:\n",
    "        if str(data_lastMonth.loc[j]['visit_datetime'])[0]=='8' or str(data_lastMonth.loc[j]['visit_datetime'])[0]=='7':\n",
    "            if str(data_lastMonth.loc[j]['user_id'])+'_'+str(data_lastMonth.loc[j]['brand_id']) not in id1.keys():\n",
    "                id1[str(data_lastMonth.loc[j]['user_id'])+'_'+str(data_lastMonth.loc[j]['brand_id'])]=1\n",
    "            elif str(data_lastMonth.loc[j]['user_id'])+'_'+str(data_lastMonth.loc[j]['brand_id']) in id1.keys():\n",
    "                id1[str(data_lastMonth.loc[j]['user_id'])+'_'+str(data_lastMonth.loc[j]['brand_id'])]=id1[str(data_lastMonth.loc[j]['user_id'])+'_'+str(data_lastMonth.loc[j]['brand_id'])]+1\n",
    "    j=j+1\n",
    "j=0\n",
    "for i in id1.keys():\n",
    "    if id1[i]!=1:\n",
    "        id2[i]=id1[i]\n",
    "id1"
   ]
  },
  {
   "cell_type": "code",
   "execution_count": null,
   "metadata": {},
   "outputs": [],
   "source": [
    "#第四个月购买的商品在前三个月被点击的次数\n",
    "j=0\n",
    "dress_num={}\n",
    "for i in data.loc[:]['type']:\n",
    "    if i==0:\n",
    "        if str(data.loc[j]['user_id'])+'_'+str(data.loc[j]['brand_id']) not in dress_num.keys():\n",
    "            dress_num[str(data.loc[j]['user_id'])+'_'+str(data.loc[j]['brand_id'])]=1\n",
    "        elif str(data.loc[j]['user_id'])+'_'+str(data.loc[j]['brand_id']) in dress_num.keys():\n",
    "            dress_num[str(data.loc[j]['user_id'])+'_'+str(data.loc[j]['brand_id'])]=dress_num[str(data.loc[j]['user_id'])+'_'+str(data.loc[j]['brand_id'])]+1\n",
    "    j=j+1"
   ]
  },
  {
   "cell_type": "code",
   "execution_count": null,
   "metadata": {},
   "outputs": [
    {
     "data": {
      "text/plain": [
       "{}"
      ]
     },
     "execution_count": 113,
     "metadata": {},
     "output_type": "execute_result"
    }
   ],
   "source": [
    "#第四个月购买的商品在前三个月被点击的次数\n",
    "id_press={}\n",
    "for i in id1.keys():\n",
    "    if i not in dress_num.keys():\n",
    "        id_press[i]=0\n",
    "    elif i in dress_num.keys():\n",
    "        id_press[i]=dress_num[i]\n",
    "id_press"
   ]
  },
  {
   "cell_type": "code",
   "execution_count": null,
   "metadata": {},
   "outputs": [
    {
     "data": {
      "text/plain": [
       "[0, 0, 0, 0]"
      ]
     },
     "execution_count": 114,
     "metadata": {},
     "output_type": "execute_result"
    }
   ],
   "source": [
    "#分类\n",
    "type1=[0,0,0,0]\n",
    "for i in id_press.values():\n",
    "    if i==0:\n",
    "        type1[0]=type1[0]+1\n",
    "    elif i<=10:\n",
    "        type1[1]=type1[1]+1\n",
    "    elif i<=100:\n",
    "        type1[2]=type1[2]+1\n",
    "    elif i>100:\n",
    "        type1[3]=type1[3]+1\n",
    "type1"
   ]
  },
  {
   "cell_type": "code",
   "execution_count": 115,
   "metadata": {},
   "outputs": [
    {
     "ename": "ValueError",
     "evalue": "Image size of 381x2265489 pixels is too large. It must be less than 2^16 in each direction.",
     "output_type": "error",
     "traceback": [
      "\u001b[1;31m---------------------------------------------------------------------------\u001b[0m",
      "\u001b[1;31mValueError\u001b[0m                                Traceback (most recent call last)",
      "File \u001b[1;32me:\\MyAnaconda3\\A\\lib\\site-packages\\IPython\\core\\formatters.py:339\u001b[0m, in \u001b[0;36mBaseFormatter.__call__\u001b[1;34m(self, obj)\u001b[0m\n\u001b[0;32m    337\u001b[0m     \u001b[39mpass\u001b[39;00m\n\u001b[0;32m    338\u001b[0m \u001b[39melse\u001b[39;00m:\n\u001b[1;32m--> 339\u001b[0m     \u001b[39mreturn\u001b[39;00m printer(obj)\n\u001b[0;32m    340\u001b[0m \u001b[39m# Finally look for special method names\u001b[39;00m\n\u001b[0;32m    341\u001b[0m method \u001b[39m=\u001b[39m get_real_method(obj, \u001b[39mself\u001b[39m\u001b[39m.\u001b[39mprint_method)\n",
      "File \u001b[1;32me:\\MyAnaconda3\\A\\lib\\site-packages\\IPython\\core\\pylabtools.py:151\u001b[0m, in \u001b[0;36mprint_figure\u001b[1;34m(fig, fmt, bbox_inches, base64, **kwargs)\u001b[0m\n\u001b[0;32m    148\u001b[0m     \u001b[39mfrom\u001b[39;00m \u001b[39mmatplotlib\u001b[39;00m\u001b[39m.\u001b[39;00m\u001b[39mbackend_bases\u001b[39;00m \u001b[39mimport\u001b[39;00m FigureCanvasBase\n\u001b[0;32m    149\u001b[0m     FigureCanvasBase(fig)\n\u001b[1;32m--> 151\u001b[0m fig\u001b[39m.\u001b[39mcanvas\u001b[39m.\u001b[39mprint_figure(bytes_io, \u001b[39m*\u001b[39m\u001b[39m*\u001b[39mkw)\n\u001b[0;32m    152\u001b[0m data \u001b[39m=\u001b[39m bytes_io\u001b[39m.\u001b[39mgetvalue()\n\u001b[0;32m    153\u001b[0m \u001b[39mif\u001b[39;00m fmt \u001b[39m==\u001b[39m \u001b[39m'\u001b[39m\u001b[39msvg\u001b[39m\u001b[39m'\u001b[39m:\n",
      "File \u001b[1;32me:\\MyAnaconda3\\A\\lib\\site-packages\\matplotlib\\backend_bases.py:2319\u001b[0m, in \u001b[0;36mFigureCanvasBase.print_figure\u001b[1;34m(self, filename, dpi, facecolor, edgecolor, orientation, format, bbox_inches, pad_inches, bbox_extra_artists, backend, **kwargs)\u001b[0m\n\u001b[0;32m   2315\u001b[0m \u001b[39mtry\u001b[39;00m:\n\u001b[0;32m   2316\u001b[0m     \u001b[39m# _get_renderer may change the figure dpi (as vector formats\u001b[39;00m\n\u001b[0;32m   2317\u001b[0m     \u001b[39m# force the figure dpi to 72), so we need to set it again here.\u001b[39;00m\n\u001b[0;32m   2318\u001b[0m     \u001b[39mwith\u001b[39;00m cbook\u001b[39m.\u001b[39m_setattr_cm(\u001b[39mself\u001b[39m\u001b[39m.\u001b[39mfigure, dpi\u001b[39m=\u001b[39mdpi):\n\u001b[1;32m-> 2319\u001b[0m         result \u001b[39m=\u001b[39m print_method(\n\u001b[0;32m   2320\u001b[0m             filename,\n\u001b[0;32m   2321\u001b[0m             facecolor\u001b[39m=\u001b[39mfacecolor,\n\u001b[0;32m   2322\u001b[0m             edgecolor\u001b[39m=\u001b[39medgecolor,\n\u001b[0;32m   2323\u001b[0m             orientation\u001b[39m=\u001b[39morientation,\n\u001b[0;32m   2324\u001b[0m             bbox_inches_restore\u001b[39m=\u001b[39m_bbox_inches_restore,\n\u001b[0;32m   2325\u001b[0m             \u001b[39m*\u001b[39m\u001b[39m*\u001b[39mkwargs)\n\u001b[0;32m   2326\u001b[0m \u001b[39mfinally\u001b[39;00m:\n\u001b[0;32m   2327\u001b[0m     \u001b[39mif\u001b[39;00m bbox_inches \u001b[39mand\u001b[39;00m restore_bbox:\n",
      "File \u001b[1;32me:\\MyAnaconda3\\A\\lib\\site-packages\\matplotlib\\backend_bases.py:1648\u001b[0m, in \u001b[0;36m_check_savefig_extra_args.<locals>.wrapper\u001b[1;34m(*args, **kwargs)\u001b[0m\n\u001b[0;32m   1640\u001b[0m     _api\u001b[39m.\u001b[39mwarn_deprecated(\n\u001b[0;32m   1641\u001b[0m         \u001b[39m'\u001b[39m\u001b[39m3.3\u001b[39m\u001b[39m'\u001b[39m, name\u001b[39m=\u001b[39mname, removal\u001b[39m=\u001b[39m\u001b[39m'\u001b[39m\u001b[39m3.6\u001b[39m\u001b[39m'\u001b[39m,\n\u001b[0;32m   1642\u001b[0m         message\u001b[39m=\u001b[39m\u001b[39m'\u001b[39m\u001b[39m%(name)s\u001b[39;00m\u001b[39m() got unexpected keyword argument \u001b[39m\u001b[39m\"\u001b[39m\u001b[39m'\u001b[39m\n\u001b[0;32m   1643\u001b[0m                 \u001b[39m+\u001b[39m arg \u001b[39m+\u001b[39m \u001b[39m'\u001b[39m\u001b[39m\"\u001b[39m\u001b[39m which is no longer supported as of \u001b[39m\u001b[39m'\u001b[39m\n\u001b[0;32m   1644\u001b[0m                 \u001b[39m'\u001b[39m\u001b[39m%(since)s\u001b[39;00m\u001b[39m and will become an error \u001b[39m\u001b[39m'\u001b[39m\n\u001b[0;32m   1645\u001b[0m                 \u001b[39m'\u001b[39m\u001b[39m%(removal)s\u001b[39;00m\u001b[39m'\u001b[39m)\n\u001b[0;32m   1646\u001b[0m     kwargs\u001b[39m.\u001b[39mpop(arg)\n\u001b[1;32m-> 1648\u001b[0m \u001b[39mreturn\u001b[39;00m func(\u001b[39m*\u001b[39margs, \u001b[39m*\u001b[39m\u001b[39m*\u001b[39mkwargs)\n",
      "File \u001b[1;32me:\\MyAnaconda3\\A\\lib\\site-packages\\matplotlib\\_api\\deprecation.py:412\u001b[0m, in \u001b[0;36mdelete_parameter.<locals>.wrapper\u001b[1;34m(*inner_args, **inner_kwargs)\u001b[0m\n\u001b[0;32m    402\u001b[0m     deprecation_addendum \u001b[39m=\u001b[39m (\n\u001b[0;32m    403\u001b[0m         \u001b[39mf\u001b[39m\u001b[39m\"\u001b[39m\u001b[39mIf any parameter follows \u001b[39m\u001b[39m{\u001b[39;00mname\u001b[39m!r}\u001b[39;00m\u001b[39m, they should be passed as \u001b[39m\u001b[39m\"\u001b[39m\n\u001b[0;32m    404\u001b[0m         \u001b[39mf\u001b[39m\u001b[39m\"\u001b[39m\u001b[39mkeyword, not positionally.\u001b[39m\u001b[39m\"\u001b[39m)\n\u001b[0;32m    405\u001b[0m     warn_deprecated(\n\u001b[0;32m    406\u001b[0m         since,\n\u001b[0;32m    407\u001b[0m         name\u001b[39m=\u001b[39m\u001b[39mrepr\u001b[39m(name),\n\u001b[1;32m   (...)\u001b[0m\n\u001b[0;32m    410\u001b[0m                  \u001b[39melse\u001b[39;00m deprecation_addendum,\n\u001b[0;32m    411\u001b[0m         \u001b[39m*\u001b[39m\u001b[39m*\u001b[39mkwargs)\n\u001b[1;32m--> 412\u001b[0m \u001b[39mreturn\u001b[39;00m func(\u001b[39m*\u001b[39minner_args, \u001b[39m*\u001b[39m\u001b[39m*\u001b[39minner_kwargs)\n",
      "File \u001b[1;32me:\\MyAnaconda3\\A\\lib\\site-packages\\matplotlib\\backends\\backend_agg.py:540\u001b[0m, in \u001b[0;36mFigureCanvasAgg.print_png\u001b[1;34m(self, filename_or_obj, metadata, pil_kwargs, *args)\u001b[0m\n\u001b[0;32m    490\u001b[0m \u001b[39m@_check_savefig_extra_args\u001b[39m\n\u001b[0;32m    491\u001b[0m \u001b[39m@_api\u001b[39m\u001b[39m.\u001b[39mdelete_parameter(\u001b[39m\"\u001b[39m\u001b[39m3.5\u001b[39m\u001b[39m\"\u001b[39m, \u001b[39m\"\u001b[39m\u001b[39margs\u001b[39m\u001b[39m\"\u001b[39m)\n\u001b[0;32m    492\u001b[0m \u001b[39mdef\u001b[39;00m \u001b[39mprint_png\u001b[39m(\u001b[39mself\u001b[39m, filename_or_obj, \u001b[39m*\u001b[39margs,\n\u001b[0;32m    493\u001b[0m               metadata\u001b[39m=\u001b[39m\u001b[39mNone\u001b[39;00m, pil_kwargs\u001b[39m=\u001b[39m\u001b[39mNone\u001b[39;00m):\n\u001b[0;32m    494\u001b[0m     \u001b[39m\"\"\"\u001b[39;00m\n\u001b[0;32m    495\u001b[0m \u001b[39m    Write the figure to a PNG file.\u001b[39;00m\n\u001b[0;32m    496\u001b[0m \n\u001b[1;32m   (...)\u001b[0m\n\u001b[0;32m    538\u001b[0m \u001b[39m        *metadata*, including the default 'Software' key.\u001b[39;00m\n\u001b[0;32m    539\u001b[0m \u001b[39m    \"\"\"\u001b[39;00m\n\u001b[1;32m--> 540\u001b[0m     FigureCanvasAgg\u001b[39m.\u001b[39;49mdraw(\u001b[39mself\u001b[39;49m)\n\u001b[0;32m    541\u001b[0m     mpl\u001b[39m.\u001b[39mimage\u001b[39m.\u001b[39mimsave(\n\u001b[0;32m    542\u001b[0m         filename_or_obj, \u001b[39mself\u001b[39m\u001b[39m.\u001b[39mbuffer_rgba(), \u001b[39mformat\u001b[39m\u001b[39m=\u001b[39m\u001b[39m\"\u001b[39m\u001b[39mpng\u001b[39m\u001b[39m\"\u001b[39m, origin\u001b[39m=\u001b[39m\u001b[39m\"\u001b[39m\u001b[39mupper\u001b[39m\u001b[39m\"\u001b[39m,\n\u001b[0;32m    543\u001b[0m         dpi\u001b[39m=\u001b[39m\u001b[39mself\u001b[39m\u001b[39m.\u001b[39mfigure\u001b[39m.\u001b[39mdpi, metadata\u001b[39m=\u001b[39mmetadata, pil_kwargs\u001b[39m=\u001b[39mpil_kwargs)\n",
      "File \u001b[1;32me:\\MyAnaconda3\\A\\lib\\site-packages\\matplotlib\\backends\\backend_agg.py:431\u001b[0m, in \u001b[0;36mFigureCanvasAgg.draw\u001b[1;34m(self)\u001b[0m\n\u001b[0;32m    429\u001b[0m \u001b[39mdef\u001b[39;00m \u001b[39mdraw\u001b[39m(\u001b[39mself\u001b[39m):\n\u001b[0;32m    430\u001b[0m     \u001b[39m# docstring inherited\u001b[39;00m\n\u001b[1;32m--> 431\u001b[0m     \u001b[39mself\u001b[39m\u001b[39m.\u001b[39mrenderer \u001b[39m=\u001b[39m \u001b[39mself\u001b[39;49m\u001b[39m.\u001b[39;49mget_renderer(cleared\u001b[39m=\u001b[39;49m\u001b[39mTrue\u001b[39;49;00m)\n\u001b[0;32m    432\u001b[0m     \u001b[39m# Acquire a lock on the shared font cache.\u001b[39;00m\n\u001b[0;32m    433\u001b[0m     \u001b[39mwith\u001b[39;00m RendererAgg\u001b[39m.\u001b[39mlock, \\\n\u001b[0;32m    434\u001b[0m          (\u001b[39mself\u001b[39m\u001b[39m.\u001b[39mtoolbar\u001b[39m.\u001b[39m_wait_cursor_for_draw_cm() \u001b[39mif\u001b[39;00m \u001b[39mself\u001b[39m\u001b[39m.\u001b[39mtoolbar\n\u001b[0;32m    435\u001b[0m           \u001b[39melse\u001b[39;00m nullcontext()):\n",
      "File \u001b[1;32me:\\MyAnaconda3\\A\\lib\\site-packages\\matplotlib\\backends\\backend_agg.py:447\u001b[0m, in \u001b[0;36mFigureCanvasAgg.get_renderer\u001b[1;34m(self, cleared)\u001b[0m\n\u001b[0;32m    444\u001b[0m reuse_renderer \u001b[39m=\u001b[39m (\u001b[39mhasattr\u001b[39m(\u001b[39mself\u001b[39m, \u001b[39m\"\u001b[39m\u001b[39mrenderer\u001b[39m\u001b[39m\"\u001b[39m)\n\u001b[0;32m    445\u001b[0m                   \u001b[39mand\u001b[39;00m \u001b[39mgetattr\u001b[39m(\u001b[39mself\u001b[39m, \u001b[39m\"\u001b[39m\u001b[39m_lastKey\u001b[39m\u001b[39m\"\u001b[39m, \u001b[39mNone\u001b[39;00m) \u001b[39m==\u001b[39m key)\n\u001b[0;32m    446\u001b[0m \u001b[39mif\u001b[39;00m \u001b[39mnot\u001b[39;00m reuse_renderer:\n\u001b[1;32m--> 447\u001b[0m     \u001b[39mself\u001b[39m\u001b[39m.\u001b[39mrenderer \u001b[39m=\u001b[39m RendererAgg(w, h, \u001b[39mself\u001b[39;49m\u001b[39m.\u001b[39;49mfigure\u001b[39m.\u001b[39;49mdpi)\n\u001b[0;32m    448\u001b[0m     \u001b[39mself\u001b[39m\u001b[39m.\u001b[39m_lastKey \u001b[39m=\u001b[39m key\n\u001b[0;32m    449\u001b[0m \u001b[39melif\u001b[39;00m cleared:\n",
      "File \u001b[1;32me:\\MyAnaconda3\\A\\lib\\site-packages\\matplotlib\\backends\\backend_agg.py:93\u001b[0m, in \u001b[0;36mRendererAgg.__init__\u001b[1;34m(self, width, height, dpi)\u001b[0m\n\u001b[0;32m     91\u001b[0m \u001b[39mself\u001b[39m\u001b[39m.\u001b[39mwidth \u001b[39m=\u001b[39m width\n\u001b[0;32m     92\u001b[0m \u001b[39mself\u001b[39m\u001b[39m.\u001b[39mheight \u001b[39m=\u001b[39m height\n\u001b[1;32m---> 93\u001b[0m \u001b[39mself\u001b[39m\u001b[39m.\u001b[39m_renderer \u001b[39m=\u001b[39m _RendererAgg(\u001b[39mint\u001b[39;49m(width), \u001b[39mint\u001b[39;49m(height), dpi)\n\u001b[0;32m     94\u001b[0m \u001b[39mself\u001b[39m\u001b[39m.\u001b[39m_filter_renderers \u001b[39m=\u001b[39m []\n\u001b[0;32m     96\u001b[0m \u001b[39mself\u001b[39m\u001b[39m.\u001b[39m_update_methods()\n",
      "\u001b[1;31mValueError\u001b[0m: Image size of 381x2265489 pixels is too large. It must be less than 2^16 in each direction."
     ]
    },
    {
     "data": {
      "text/plain": [
       "<Figure size 432x288 with 1 Axes>"
      ]
     },
     "metadata": {
      "needs_background": "light"
     },
     "output_type": "display_data"
    }
   ],
   "source": [
    "#第四个月购买的商品在前三个月被点击的次数\n",
    "#画柱状图\n",
    "plt.bar([1,2,3,4],type1,tick_label=['0','10以内','100以内','10以上'])\n",
    "x=[0.8,1.8,2.8,3.8]\n",
    "y=[1146, 597, 256, 22]\n",
    "zip1=zip(x,y)\n",
    "for i in zip1:\n",
    "    plt.text(x=i[0],y=i[1],s=str(int(i[1])))\n",
    "plt.xlabel('第四个月购买的商品在前三个月被点击的次数')\n",
    "plt.show()"
   ]
  },
  {
   "cell_type": "markdown",
   "metadata": {},
   "source": [
    "## 任务4 特征构建"
   ]
  },
  {
   "cell_type": "code",
   "execution_count": 138,
   "metadata": {},
   "outputs": [],
   "source": [
    "#初始化“点击”统计列\n",
    "click_count= np.zeros([len(data_firstThreeMonths),1]) \n",
    "buy_count = np.zeros([len(data_firstThreeMonths),1]) \n",
    "save_count = np.zeros([len(data_firstThreeMonths),1])\n",
    "cart_count = np.zeros([len(data_firstThreeMonths),1])\n",
    "# 记录点击操作\n",
    "click_count[data_firstThreeMonths['type']==0] = 1\n",
    "# 记录“购买”后补充的同用户同时间记录 \n",
    "buy_count[data_firstThreeMonths['type']==1] = 1 \n",
    "# 记录“收藏”后补充的同用户同时间记录 \n",
    "save_count[data_firstThreeMonths['type']==2] = 1\n",
    "# 记录“加入购物车”后补充的同用户同时间记录\n",
    "cart_count[data_firstThreeMonths['type']==3] = 1 \n",
    "# 购物车、收藏、购买、点击记录列插入记录列插入\n",
    "data_firstThreeMonths.insert(4,'cart_count',cart_count) \n",
    "data_firstThreeMonths.insert(4,'save_count',save_count) \n",
    "data_firstThreeMonths.insert(4,'buy_count',buy_count)\n",
    "data_firstThreeMonths.insert(4,'click_count',click_count) "
   ]
  },
  {
   "cell_type": "code",
   "execution_count": 139,
   "metadata": {},
   "outputs": [
    {
     "data": {
      "text/html": [
       "<div>\n",
       "<style scoped>\n",
       "    .dataframe tbody tr th:only-of-type {\n",
       "        vertical-align: middle;\n",
       "    }\n",
       "\n",
       "    .dataframe tbody tr th {\n",
       "        vertical-align: top;\n",
       "    }\n",
       "\n",
       "    .dataframe thead th {\n",
       "        text-align: right;\n",
       "    }\n",
       "</style>\n",
       "<table border=\"1\" class=\"dataframe\">\n",
       "  <thead>\n",
       "    <tr style=\"text-align: right;\">\n",
       "      <th></th>\n",
       "      <th>user_id</th>\n",
       "      <th>brand_id</th>\n",
       "      <th>type</th>\n",
       "      <th>visit_datetime</th>\n",
       "      <th>click_count</th>\n",
       "      <th>buy_count</th>\n",
       "      <th>save_count</th>\n",
       "      <th>cart_count</th>\n",
       "      <th>is_buy</th>\n",
       "    </tr>\n",
       "  </thead>\n",
       "  <tbody>\n",
       "    <tr>\n",
       "      <th>0</th>\n",
       "      <td>10944750</td>\n",
       "      <td>13451</td>\n",
       "      <td>0</td>\n",
       "      <td>1654272000</td>\n",
       "      <td>1.0</td>\n",
       "      <td>0.0</td>\n",
       "      <td>0.0</td>\n",
       "      <td>0.0</td>\n",
       "      <td>1</td>\n",
       "    </tr>\n",
       "    <tr>\n",
       "      <th>1</th>\n",
       "      <td>10944750</td>\n",
       "      <td>13451</td>\n",
       "      <td>2</td>\n",
       "      <td>1654272000</td>\n",
       "      <td>0.0</td>\n",
       "      <td>0.0</td>\n",
       "      <td>1.0</td>\n",
       "      <td>0.0</td>\n",
       "      <td>1</td>\n",
       "    </tr>\n",
       "    <tr>\n",
       "      <th>2</th>\n",
       "      <td>10944750</td>\n",
       "      <td>13451</td>\n",
       "      <td>2</td>\n",
       "      <td>1654272000</td>\n",
       "      <td>0.0</td>\n",
       "      <td>0.0</td>\n",
       "      <td>1.0</td>\n",
       "      <td>0.0</td>\n",
       "      <td>1</td>\n",
       "    </tr>\n",
       "    <tr>\n",
       "      <th>3</th>\n",
       "      <td>10944750</td>\n",
       "      <td>13451</td>\n",
       "      <td>0</td>\n",
       "      <td>1654272000</td>\n",
       "      <td>1.0</td>\n",
       "      <td>0.0</td>\n",
       "      <td>0.0</td>\n",
       "      <td>0.0</td>\n",
       "      <td>1</td>\n",
       "    </tr>\n",
       "    <tr>\n",
       "      <th>4</th>\n",
       "      <td>10944750</td>\n",
       "      <td>13451</td>\n",
       "      <td>0</td>\n",
       "      <td>1654272000</td>\n",
       "      <td>1.0</td>\n",
       "      <td>0.0</td>\n",
       "      <td>0.0</td>\n",
       "      <td>0.0</td>\n",
       "      <td>1</td>\n",
       "    </tr>\n",
       "    <tr>\n",
       "      <th>...</th>\n",
       "      <td>...</td>\n",
       "      <td>...</td>\n",
       "      <td>...</td>\n",
       "      <td>...</td>\n",
       "      <td>...</td>\n",
       "      <td>...</td>\n",
       "      <td>...</td>\n",
       "      <td>...</td>\n",
       "      <td>...</td>\n",
       "    </tr>\n",
       "    <tr>\n",
       "      <th>136123</th>\n",
       "      <td>6694750</td>\n",
       "      <td>12977</td>\n",
       "      <td>0</td>\n",
       "      <td>1654185600</td>\n",
       "      <td>0.0</td>\n",
       "      <td>0.0</td>\n",
       "      <td>0.0</td>\n",
       "      <td>0.0</td>\n",
       "      <td>1</td>\n",
       "    </tr>\n",
       "    <tr>\n",
       "      <th>136124</th>\n",
       "      <td>6694750</td>\n",
       "      <td>14020</td>\n",
       "      <td>0</td>\n",
       "      <td>1655308800</td>\n",
       "      <td>0.0</td>\n",
       "      <td>0.0</td>\n",
       "      <td>0.0</td>\n",
       "      <td>0.0</td>\n",
       "      <td>1</td>\n",
       "    </tr>\n",
       "    <tr>\n",
       "      <th>136125</th>\n",
       "      <td>6694750</td>\n",
       "      <td>14020</td>\n",
       "      <td>0</td>\n",
       "      <td>1655136000</td>\n",
       "      <td>0.0</td>\n",
       "      <td>0.0</td>\n",
       "      <td>0.0</td>\n",
       "      <td>0.0</td>\n",
       "      <td>1</td>\n",
       "    </tr>\n",
       "    <tr>\n",
       "      <th>136126</th>\n",
       "      <td>6694750</td>\n",
       "      <td>14020</td>\n",
       "      <td>0</td>\n",
       "      <td>1655222400</td>\n",
       "      <td>0.0</td>\n",
       "      <td>0.0</td>\n",
       "      <td>0.0</td>\n",
       "      <td>0.0</td>\n",
       "      <td>1</td>\n",
       "    </tr>\n",
       "    <tr>\n",
       "      <th>136127</th>\n",
       "      <td>6694750</td>\n",
       "      <td>12352</td>\n",
       "      <td>0</td>\n",
       "      <td>1656864000</td>\n",
       "      <td>0.0</td>\n",
       "      <td>0.0</td>\n",
       "      <td>0.0</td>\n",
       "      <td>0.0</td>\n",
       "      <td>1</td>\n",
       "    </tr>\n",
       "  </tbody>\n",
       "</table>\n",
       "<p>136128 rows × 9 columns</p>\n",
       "</div>"
      ],
      "text/plain": [
       "         user_id  brand_id type  visit_datetime  click_count  buy_count  \\\n",
       "0       10944750     13451    0      1654272000          1.0        0.0   \n",
       "1       10944750     13451    2      1654272000          0.0        0.0   \n",
       "2       10944750     13451    2      1654272000          0.0        0.0   \n",
       "3       10944750     13451    0      1654272000          1.0        0.0   \n",
       "4       10944750     13451    0      1654272000          1.0        0.0   \n",
       "...          ...       ...  ...             ...          ...        ...   \n",
       "136123   6694750     12977    0      1654185600          0.0        0.0   \n",
       "136124   6694750     14020    0      1655308800          0.0        0.0   \n",
       "136125   6694750     14020    0      1655136000          0.0        0.0   \n",
       "136126   6694750     14020    0      1655222400          0.0        0.0   \n",
       "136127   6694750     12352    0      1656864000          0.0        0.0   \n",
       "\n",
       "        save_count  cart_count  is_buy  \n",
       "0              0.0         0.0       1  \n",
       "1              1.0         0.0       1  \n",
       "2              1.0         0.0       1  \n",
       "3              0.0         0.0       1  \n",
       "4              0.0         0.0       1  \n",
       "...            ...         ...     ...  \n",
       "136123         0.0         0.0       1  \n",
       "136124         0.0         0.0       1  \n",
       "136125         0.0         0.0       1  \n",
       "136126         0.0         0.0       1  \n",
       "136127         0.0         0.0       1  \n",
       "\n",
       "[136128 rows x 9 columns]"
      ]
     },
     "execution_count": 139,
     "metadata": {},
     "output_type": "execute_result"
    }
   ],
   "source": [
    "data_firstThreeMonths"
   ]
  },
  {
   "cell_type": "code",
   "execution_count": 140,
   "metadata": {},
   "outputs": [
    {
     "data": {
      "text/html": [
       "<div>\n",
       "<style scoped>\n",
       "    .dataframe tbody tr th:only-of-type {\n",
       "        vertical-align: middle;\n",
       "    }\n",
       "\n",
       "    .dataframe tbody tr th {\n",
       "        vertical-align: top;\n",
       "    }\n",
       "\n",
       "    .dataframe thead th {\n",
       "        text-align: right;\n",
       "    }\n",
       "</style>\n",
       "<table border=\"1\" class=\"dataframe\">\n",
       "  <thead>\n",
       "    <tr style=\"text-align: right;\">\n",
       "      <th></th>\n",
       "      <th></th>\n",
       "      <th>click_count</th>\n",
       "      <th>buy_count</th>\n",
       "      <th>save_count</th>\n",
       "      <th>cart_count</th>\n",
       "      <th>is_buy</th>\n",
       "    </tr>\n",
       "    <tr>\n",
       "      <th>user_id</th>\n",
       "      <th>brand_id</th>\n",
       "      <th></th>\n",
       "      <th></th>\n",
       "      <th></th>\n",
       "      <th></th>\n",
       "      <th></th>\n",
       "    </tr>\n",
       "  </thead>\n",
       "  <tbody>\n",
       "    <tr>\n",
       "      <th rowspan=\"5\" valign=\"top\">10944750</th>\n",
       "      <th>13451</th>\n",
       "      <td>6.0</td>\n",
       "      <td>0.0</td>\n",
       "      <td>2.0</td>\n",
       "      <td>0.0</td>\n",
       "      <td>10</td>\n",
       "    </tr>\n",
       "    <tr>\n",
       "      <th>21110</th>\n",
       "      <td>1.0</td>\n",
       "      <td>0.0</td>\n",
       "      <td>0.0</td>\n",
       "      <td>0.0</td>\n",
       "      <td>1</td>\n",
       "    </tr>\n",
       "    <tr>\n",
       "      <th>8689</th>\n",
       "      <td>3.0</td>\n",
       "      <td>0.0</td>\n",
       "      <td>2.0</td>\n",
       "      <td>0.0</td>\n",
       "      <td>7</td>\n",
       "    </tr>\n",
       "    <tr>\n",
       "      <th>26619</th>\n",
       "      <td>1.0</td>\n",
       "      <td>0.0</td>\n",
       "      <td>0.0</td>\n",
       "      <td>0.0</td>\n",
       "      <td>1</td>\n",
       "    </tr>\n",
       "    <tr>\n",
       "      <th>5185</th>\n",
       "      <td>1.0</td>\n",
       "      <td>0.0</td>\n",
       "      <td>0.0</td>\n",
       "      <td>0.0</td>\n",
       "      <td>1</td>\n",
       "    </tr>\n",
       "    <tr>\n",
       "      <th>...</th>\n",
       "      <th>...</th>\n",
       "      <td>...</td>\n",
       "      <td>...</td>\n",
       "      <td>...</td>\n",
       "      <td>...</td>\n",
       "      <td>...</td>\n",
       "    </tr>\n",
       "    <tr>\n",
       "      <th rowspan=\"5\" valign=\"top\">847750</th>\n",
       "      <th>2234</th>\n",
       "      <td>2.0</td>\n",
       "      <td>0.0</td>\n",
       "      <td>0.0</td>\n",
       "      <td>0.0</td>\n",
       "      <td>2</td>\n",
       "    </tr>\n",
       "    <tr>\n",
       "      <th>13518</th>\n",
       "      <td>1.0</td>\n",
       "      <td>0.0</td>\n",
       "      <td>0.0</td>\n",
       "      <td>0.0</td>\n",
       "      <td>1</td>\n",
       "    </tr>\n",
       "    <tr>\n",
       "      <th>9848</th>\n",
       "      <td>5.0</td>\n",
       "      <td>0.0</td>\n",
       "      <td>0.0</td>\n",
       "      <td>0.0</td>\n",
       "      <td>5</td>\n",
       "    </tr>\n",
       "    <tr>\n",
       "      <th>4578</th>\n",
       "      <td>1.0</td>\n",
       "      <td>0.0</td>\n",
       "      <td>0.0</td>\n",
       "      <td>0.0</td>\n",
       "      <td>1</td>\n",
       "    </tr>\n",
       "    <tr>\n",
       "      <th>27123</th>\n",
       "      <td>1.0</td>\n",
       "      <td>0.0</td>\n",
       "      <td>0.0</td>\n",
       "      <td>0.0</td>\n",
       "      <td>1</td>\n",
       "    </tr>\n",
       "  </tbody>\n",
       "</table>\n",
       "<p>42085 rows × 5 columns</p>\n",
       "</div>"
      ],
      "text/plain": [
       "                   click_count  buy_count  save_count  cart_count  is_buy\n",
       "user_id  brand_id                                                        \n",
       "10944750 13451             6.0        0.0         2.0         0.0      10\n",
       "         21110             1.0        0.0         0.0         0.0       1\n",
       "         8689              3.0        0.0         2.0         0.0       7\n",
       "         26619             1.0        0.0         0.0         0.0       1\n",
       "         5185              1.0        0.0         0.0         0.0       1\n",
       "...                        ...        ...         ...         ...     ...\n",
       "847750   2234              2.0        0.0         0.0         0.0       2\n",
       "         13518             1.0        0.0         0.0         0.0       1\n",
       "         9848              5.0        0.0         0.0         0.0       5\n",
       "         4578              1.0        0.0         0.0         0.0       1\n",
       "         27123             1.0        0.0         0.0         0.0       1\n",
       "\n",
       "[42085 rows x 5 columns]"
      ]
     },
     "execution_count": 140,
     "metadata": {},
     "output_type": "execute_result"
    }
   ],
   "source": [
    "data_featureConstruction = data_firstThreeMonths[['user_id','brand_id','click_count', 'buy_count', 'save_count', 'cart_count', 'is_buy']].groupby(by=['user_id','brand_id'], sort=False)\n",
    "data_featureConstruction = data_featureConstruction.agg({'click_count':np.sum, 'buy_count':np.sum, 'save_count': np.sum, 'cart_count':np.sum, 'is_buy':np.sum})\n",
    "data_featureConstruction"
   ]
  },
  {
   "cell_type": "code",
   "execution_count": 141,
   "metadata": {},
   "outputs": [
    {
     "data": {
      "text/html": [
       "<div>\n",
       "<style scoped>\n",
       "    .dataframe tbody tr th:only-of-type {\n",
       "        vertical-align: middle;\n",
       "    }\n",
       "\n",
       "    .dataframe tbody tr th {\n",
       "        vertical-align: top;\n",
       "    }\n",
       "\n",
       "    .dataframe thead th {\n",
       "        text-align: right;\n",
       "    }\n",
       "</style>\n",
       "<table border=\"1\" class=\"dataframe\">\n",
       "  <thead>\n",
       "    <tr style=\"text-align: right;\">\n",
       "      <th></th>\n",
       "      <th>user_id</th>\n",
       "      <th>brand_id</th>\n",
       "      <th>click_count</th>\n",
       "      <th>buy_count</th>\n",
       "      <th>save_count</th>\n",
       "      <th>cart_count</th>\n",
       "      <th>is_buy</th>\n",
       "    </tr>\n",
       "  </thead>\n",
       "  <tbody>\n",
       "    <tr>\n",
       "      <th>0</th>\n",
       "      <td>10944750</td>\n",
       "      <td>13451</td>\n",
       "      <td>6.0</td>\n",
       "      <td>0.0</td>\n",
       "      <td>2.0</td>\n",
       "      <td>0.0</td>\n",
       "      <td>1</td>\n",
       "    </tr>\n",
       "    <tr>\n",
       "      <th>1</th>\n",
       "      <td>10944750</td>\n",
       "      <td>21110</td>\n",
       "      <td>1.0</td>\n",
       "      <td>0.0</td>\n",
       "      <td>0.0</td>\n",
       "      <td>0.0</td>\n",
       "      <td>1</td>\n",
       "    </tr>\n",
       "    <tr>\n",
       "      <th>2</th>\n",
       "      <td>10944750</td>\n",
       "      <td>8689</td>\n",
       "      <td>3.0</td>\n",
       "      <td>0.0</td>\n",
       "      <td>2.0</td>\n",
       "      <td>0.0</td>\n",
       "      <td>1</td>\n",
       "    </tr>\n",
       "    <tr>\n",
       "      <th>3</th>\n",
       "      <td>10944750</td>\n",
       "      <td>26619</td>\n",
       "      <td>1.0</td>\n",
       "      <td>0.0</td>\n",
       "      <td>0.0</td>\n",
       "      <td>0.0</td>\n",
       "      <td>1</td>\n",
       "    </tr>\n",
       "    <tr>\n",
       "      <th>4</th>\n",
       "      <td>10944750</td>\n",
       "      <td>5185</td>\n",
       "      <td>1.0</td>\n",
       "      <td>0.0</td>\n",
       "      <td>0.0</td>\n",
       "      <td>0.0</td>\n",
       "      <td>1</td>\n",
       "    </tr>\n",
       "    <tr>\n",
       "      <th>...</th>\n",
       "      <td>...</td>\n",
       "      <td>...</td>\n",
       "      <td>...</td>\n",
       "      <td>...</td>\n",
       "      <td>...</td>\n",
       "      <td>...</td>\n",
       "      <td>...</td>\n",
       "    </tr>\n",
       "    <tr>\n",
       "      <th>42080</th>\n",
       "      <td>847750</td>\n",
       "      <td>2234</td>\n",
       "      <td>2.0</td>\n",
       "      <td>0.0</td>\n",
       "      <td>0.0</td>\n",
       "      <td>0.0</td>\n",
       "      <td>1</td>\n",
       "    </tr>\n",
       "    <tr>\n",
       "      <th>42081</th>\n",
       "      <td>847750</td>\n",
       "      <td>13518</td>\n",
       "      <td>1.0</td>\n",
       "      <td>0.0</td>\n",
       "      <td>0.0</td>\n",
       "      <td>0.0</td>\n",
       "      <td>1</td>\n",
       "    </tr>\n",
       "    <tr>\n",
       "      <th>42082</th>\n",
       "      <td>847750</td>\n",
       "      <td>9848</td>\n",
       "      <td>5.0</td>\n",
       "      <td>0.0</td>\n",
       "      <td>0.0</td>\n",
       "      <td>0.0</td>\n",
       "      <td>1</td>\n",
       "    </tr>\n",
       "    <tr>\n",
       "      <th>42083</th>\n",
       "      <td>847750</td>\n",
       "      <td>4578</td>\n",
       "      <td>1.0</td>\n",
       "      <td>0.0</td>\n",
       "      <td>0.0</td>\n",
       "      <td>0.0</td>\n",
       "      <td>1</td>\n",
       "    </tr>\n",
       "    <tr>\n",
       "      <th>42084</th>\n",
       "      <td>847750</td>\n",
       "      <td>27123</td>\n",
       "      <td>1.0</td>\n",
       "      <td>0.0</td>\n",
       "      <td>0.0</td>\n",
       "      <td>0.0</td>\n",
       "      <td>1</td>\n",
       "    </tr>\n",
       "  </tbody>\n",
       "</table>\n",
       "<p>42085 rows × 7 columns</p>\n",
       "</div>"
      ],
      "text/plain": [
       "        user_id  brand_id  click_count  buy_count  save_count  cart_count  \\\n",
       "0      10944750     13451          6.0        0.0         2.0         0.0   \n",
       "1      10944750     21110          1.0        0.0         0.0         0.0   \n",
       "2      10944750      8689          3.0        0.0         2.0         0.0   \n",
       "3      10944750     26619          1.0        0.0         0.0         0.0   \n",
       "4      10944750      5185          1.0        0.0         0.0         0.0   \n",
       "...         ...       ...          ...        ...         ...         ...   \n",
       "42080    847750      2234          2.0        0.0         0.0         0.0   \n",
       "42081    847750     13518          1.0        0.0         0.0         0.0   \n",
       "42082    847750      9848          5.0        0.0         0.0         0.0   \n",
       "42083    847750      4578          1.0        0.0         0.0         0.0   \n",
       "42084    847750     27123          1.0        0.0         0.0         0.0   \n",
       "\n",
       "       is_buy  \n",
       "0           1  \n",
       "1           1  \n",
       "2           1  \n",
       "3           1  \n",
       "4           1  \n",
       "...       ...  \n",
       "42080       1  \n",
       "42081       1  \n",
       "42082       1  \n",
       "42083       1  \n",
       "42084       1  \n",
       "\n",
       "[42085 rows x 7 columns]"
      ]
     },
     "execution_count": 141,
     "metadata": {},
     "output_type": "execute_result"
    }
   ],
   "source": [
    "# 将is_buy转为1/0，用于表示用户再第四个月有没有购买某件商品\n",
    "data_featureConstruction['is_buy'] = data_featureConstruction['is_buy'].apply(lambda x: 1 if x>=1 else 0)\n",
    "data_featureConstruction = data_featureConstruction.reset_index()\n",
    "data_featureConstruction"
   ]
  },
  {
   "cell_type": "markdown",
   "metadata": {},
   "source": [
    "## 5 处理类不平衡问题"
   ]
  },
  {
   "cell_type": "markdown",
   "metadata": {},
   "source": [
    "任务 5.1 划分训练集测试集"
   ]
  },
  {
   "cell_type": "code",
   "execution_count": 142,
   "metadata": {},
   "outputs": [],
   "source": [
    "from sklearn.model_selection import train_test_split\n",
    "X = np.array(data_featureConstruction[['user_id','brand_id','click_count','save_count','cart_count']])\n",
    "y = np.array(data_featureConstruction['is_buy'])\n",
    "# 划分训练集和测试集\n",
    "X_train, X_test, y_train, y_test = train_test_split(X, y, test_size=0.2, random_state=0)"
   ]
  },
  {
   "cell_type": "markdown",
   "metadata": {},
   "source": [
    "任务 5.2 处理类不平衡问题：正负样本数量失衡"
   ]
  },
  {
   "cell_type": "code",
   "execution_count": 143,
   "metadata": {},
   "outputs": [
    {
     "data": {
      "text/plain": [
       "{0: 7259, 1: 34826}"
      ]
     },
     "execution_count": 143,
     "metadata": {},
     "output_type": "execute_result"
    }
   ],
   "source": [
    "# 统计正负样本个数\n",
    "unique,count = np.unique(y,return_counts=True)\n",
    "dict(zip(unique,count))"
   ]
  },
  {
   "cell_type": "code",
   "execution_count": 144,
   "metadata": {},
   "outputs": [],
   "source": [
    "from sklearn.ensemble import RandomForestClassifier\n",
    "# class_weight=balanced，其中类自动加权与它们在数据中出现的频率成反比\n",
    "clf = RandomForestClassifier(random_state=0,n_estimators=15,class_weight=\"balanced\")"
   ]
  },
  {
   "cell_type": "markdown",
   "metadata": {},
   "source": [
    "## 任务6 构建预测模型"
   ]
  },
  {
   "cell_type": "code",
   "execution_count": 145,
   "metadata": {},
   "outputs": [],
   "source": [
    "# 训练模型\n",
    "clf = clf.fit(X_train, y_train)"
   ]
  },
  {
   "cell_type": "markdown",
   "metadata": {},
   "source": [
    "## 任务 7 模型预测和评估"
   ]
  },
  {
   "cell_type": "code",
   "execution_count": 146,
   "metadata": {},
   "outputs": [
    {
     "name": "stdout",
     "output_type": "stream",
     "text": [
      "accuracy: 0.8506593798265415\n"
     ]
    }
   ],
   "source": [
    "# 预测测试集\n",
    "pre = clf.predict(X_test)\n",
    "# 模型评估\n",
    "print(\"accuracy:\",sum(pre == y_test)/len(pre))"
   ]
  }
 ],
 "metadata": {
  "kernelspec": {
   "display_name": "Python 3 (ipykernel)",
   "language": "python",
   "name": "python3"
  },
  "language_info": {
   "codemirror_mode": {
    "name": "ipython",
    "version": 3
   },
   "file_extension": ".py",
   "mimetype": "text/x-python",
   "name": "python",
   "nbconvert_exporter": "python",
   "pygments_lexer": "ipython3",
   "version": "3.9.12"
  },
  "vscode": {
   "interpreter": {
    "hash": "62528b4f099b11599125006659638561bad5149d49578a810941738811915f70"
   }
  }
 },
 "nbformat": 4,
 "nbformat_minor": 2
}
